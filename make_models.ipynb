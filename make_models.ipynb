{
 "cells": [
  {
   "cell_type": "markdown",
   "metadata": {},
   "source": [
    "# Imports"
   ]
  },
  {
   "cell_type": "code",
   "execution_count": 2,
   "metadata": {},
   "outputs": [],
   "source": [
    "import pickle\n",
    "import wbgapi as wb\n",
    "import pandas as pd\n",
    "import numpy as np\n",
    "\n",
    "from sklearn.metrics import mean_squared_error\n",
    "from sklearn.metrics import r2_score\n",
    "\n",
    "from sklearn.preprocessing import MinMaxScaler\n",
    "\n",
    "from sklearn.multioutput import MultiOutputRegressor\n",
    "\n",
    "from xgboost import XGBRegressor\n",
    "from lightgbm import LGBMRegressor\n",
    "from catboost import CatBoostRegressor\n",
    "\n",
    "from sklearn.neighbors import KNeighborsRegressor\n",
    "from sklearn.linear_model import LinearRegression\n",
    "from sklearn.linear_model import Lasso\n",
    "from sklearn.linear_model import ElasticNet\n",
    "from sklearn.linear_model import LinearRegression\n",
    "from sklearn.linear_model import RidgeCV\n",
    "from sklearn.linear_model import LassoLars\n",
    "\n",
    "from sklearn.ensemble import ExtraTreesRegressor\n",
    "from sklearn.ensemble import GradientBoostingRegressor\n",
    "from sklearn.ensemble import RandomForestRegressor\n",
    "from sklearn.ensemble import AdaBoostRegressor\n",
    "\n",
    "from sklearn.tree import DecisionTreeRegressor\n",
    "from sklearn.model_selection import cross_val_score\n",
    "from sklearn.model_selection import RepeatedKFold\n",
    "from sklearn.model_selection import train_test_split\n",
    "\n",
    "\n"
   ]
  },
  {
   "cell_type": "markdown",
   "metadata": {},
   "source": [
    "# Models"
   ]
  },
  {
   "cell_type": "code",
   "execution_count": 3,
   "metadata": {},
   "outputs": [],
   "source": [
    "MODELS = {\n",
    "    \"LassoLars\": LassoLars(alpha=.1, normalize=False),\n",
    "    \"Linear regression\": LinearRegression(),\n",
    "    \"Ridge\": RidgeCV(),\n",
    "    \"Lasso\": Lasso(),\n",
    "    \"ElasticNet\":ElasticNet(random_state=42),\n",
    "    \"RandomForestRegressor\": MultiOutputRegressor(RandomForestRegressor(max_depth=5, random_state=42)),\n",
    "    \"Decision Tree Regressor\": DecisionTreeRegressor(max_depth=5),\n",
    "    \"MultiO/P GBR\" :MultiOutputRegressor(GradientBoostingRegressor(n_estimators=5)),\n",
    "    \"MultiO/P AdaB\" :MultiOutputRegressor( AdaBoostRegressor(n_estimators=5)),\n",
    "    \"XGBRegressor\": XGBRegressor(max_depth=3, n_estimators=100, n_jobs=3,\n",
    "                           objective='reg:squarederror',\n",
    "                           random_state=42, learning_rate=0.03),\n",
    "    \"K-nn\": KNeighborsRegressor(),\n",
    "    \"LinearRegression\":LinearRegression(),\n",
    "    \"CatBoostRegressor\":CatBoostRegressor(loss_function='RMSE',silent=True, depth=5),\n",
    "    \"LGBMRegressor\":LGBMRegressor()\n",
    "    \n",
    "}"
   ]
  },
  {
   "cell_type": "code",
   "execution_count": 4,
   "metadata": {},
   "outputs": [],
   "source": [
    "negative_outputs = []"
   ]
  },
  {
   "cell_type": "markdown",
   "metadata": {},
   "source": [
    "# Functions"
   ]
  },
  {
   "cell_type": "code",
   "execution_count": 5,
   "metadata": {},
   "outputs": [],
   "source": [
    "def read_data(codes):\n",
    "    wb.db = 2\n",
    "    worldbank_data = wb.data.DataFrame(codes, \n",
    "                                       ['DEU', 'AUS', 'CAN', 'USA', 'FRA', 'ITA', 'JPN', 'GBR', 'ZAF', 'SAU', 'ARG', 'BRA', 'CHN', 'KOR', 'IND', 'IDN', 'MEX', 'RUS', 'TUR'],\n",
    "                                      range(1990, 2020, 1))\n",
    "    return worldbank_data"
   ]
  },
  {
   "cell_type": "code",
   "execution_count": 6,
   "metadata": {},
   "outputs": [],
   "source": [
    "def read_data1(codes):\n",
    "    wb.db = 1\n",
    "    worldbank_data = wb.data.DataFrame(codes, \n",
    "                                       ['DEU', 'AUS', 'CAN', 'USA', 'FRA', 'ITA', 'JPN', 'GBR', 'ZAF', 'SAU', 'ARG', 'BRA', 'CHN', 'KOR', 'IND', 'IDN', 'MEX', 'RUS', 'TUR'],\n",
    "                                      range(1990, 2020, 1))\n",
    "    return worldbank_data"
   ]
  },
  {
   "cell_type": "code",
   "execution_count": 7,
   "metadata": {},
   "outputs": [],
   "source": [
    "def get_data(data):\n",
    "    dict_data={}\n",
    "    \n",
    "    for index, row in data.items():\n",
    "        if len(row)>19:\n",
    "            for index2, row2 in row.items():          \n",
    "                if not dict_data.get(index2[1]):\n",
    "                    dict_data[index2[1]]=[]\n",
    "                if (index2[1] in negative_outputs):   \n",
    "                    row2= row2*-1\n",
    "                dict_data.get(index2[1]).append(row2)\n",
    "        else:\n",
    "            for index2, row2 in row.items():\n",
    "                if not dict_data.get(\"coluna\"):\n",
    "                    dict_data[\"coluna\"]=[]\n",
    "                dict_data.get(\"coluna\").append(row2)\n",
    "    return pd.DataFrame(dict_data)"
   ]
  },
  {
   "cell_type": "code",
   "execution_count": 8,
   "metadata": {},
   "outputs": [],
   "source": [
    "def get_the_best_model(input,output):\n",
    "    data_input = get_data(input)\n",
    "    data_output = get_data(output)\n",
    "    \n",
    "    normalizer = MinMaxScaler(feature_range = (-1, 1))\n",
    "    \n",
    "\n",
    "    \n",
    "    data = pd.concat([data_input,data_output],axis=1)\n",
    "    \n",
    "    len_in = len(data_input.columns)\n",
    "    len_out = len(data_output.columns)\n",
    "     \n",
    "    data = normalizer.fit_transform(np.nan_to_num(data.values))\n",
    "    \n",
    "    x = data[:,0:len_in]\n",
    "    y = data[:,len_in:len_in+len_out]\n",
    "    print(\"x-shape: \", x.shape)\n",
    "    print(\"y-shape: \", y.shape)\n",
    "\n",
    "    \n",
    "    X_train, X_test, y_train, y_test = train_test_split(x, y, test_size=0.2, \n",
    "                                                    random_state=42)\n",
    "    y_test_predict = dict()\n",
    "    y_mse = dict()\n",
    "\n",
    "    the_best ={\"RMSE\":10, \"MSE\": 10, \"MAE\": 10, \"R_squared\": 0, 'model':dict() }\n",
    "\n",
    "    for name, estimator in MODELS.items():\n",
    "        print(\"Model name: \", name)\n",
    "        try:\n",
    "            if(name =='LGBMRegressor'):\n",
    "                estimator.fit(X_train, np.ravel(y_train))  \n",
    "            else:\n",
    "                estimator.fit(X_train, y_train)  \n",
    "        except Exception as e:\n",
    "           \n",
    "            print(f'error-> {e}')\n",
    "            print(X_train.dtype)\n",
    "            print(y_train.dtype)\n",
    "            continue\n",
    "        y_test_predict[name] = estimator.predict(X_test) \n",
    "\n",
    "        # Metrics\n",
    "        y_mse[name] = mean_squared_error(y_test, estimator.predict(X_test))\n",
    "        y_true = y_test \n",
    "\n",
    "        cv = RepeatedKFold(n_splits=10, n_repeats=3, random_state=42)\n",
    "        n_scores = cross_val_score(estimator, x, y, scoring='neg_mean_absolute_error', cv=cv, n_jobs=3)\n",
    "        n_scores = np.absolute(n_scores)\n",
    "\n",
    "        MSE = mean_squared_error(y_true, y_test_predict[name])\n",
    "        RMSE = np.sqrt(MSE)\n",
    "        R_squared = r2_score(y_true, y_test_predict[name],multioutput=\"variance_weighted\")\n",
    "        MAE = np.mean(n_scores)\n",
    "        print(\"RMSE: \", np.round(RMSE, 3))\n",
    "        print(\"MSE:\" , np.round(MSE,3))\n",
    "        print(\"R-Squared: \", np.round(R_squared, 3))\n",
    "        print(f\"MAE: {np.round(MAE,3)} ({np.round(np.std(n_scores),3)})\")\n",
    "        print()\n",
    "\n",
    "        if(RMSE < the_best.get('RMSE') and MSE<the_best.get('MSE') and ( (1-R_squared)>0 and R_squared> the_best.get('R_squared') ) ):\n",
    "            print(\"New best->\", name) \n",
    "            the_best['RMSE'] = RMSE\n",
    "            the_best['MSE'] = MSE\n",
    "            the_best['R_squared']= R_squared\n",
    "            the_best['model']={'name':name, 'estimator': estimator}\n",
    "\n",
    "    print('The best model',the_best.get('model').get('name'))\n",
    "    \n",
    "    return [the_best.get('model').get('estimator'), normalizer]"
   ]
  },
  {
   "cell_type": "code",
   "execution_count": 9,
   "metadata": {},
   "outputs": [],
   "source": [
    "def save(nome, model, normalizer):\n",
    "    with open(f'models/normalizer_{nome}.pkl','wb') as f:\n",
    "        pickle.dump(normalizer,f)\n",
    "    with open(f'models/model_{nome}.pkl','wb') as f:\n",
    "        pickle.dump(model,f)\n",
    "    print('salvo')"
   ]
  },
  {
   "cell_type": "code",
   "execution_count": 10,
   "metadata": {},
   "outputs": [],
   "source": [
    "def to_negative(df, ouputs_negative):\n",
    "    for i in ouputs_negative:\n",
    "        df.loc[df.index.get_level_values('series') == i] = df.loc[df.index.get_level_values('series') == i] * -1\n",
    "    return df"
   ]
  },
  {
   "cell_type": "markdown",
   "metadata": {},
   "source": [
    "# Ministérios"
   ]
  },
  {
   "cell_type": "markdown",
   "metadata": {},
   "source": [
    "## Agricultura e desenvolvimento rural"
   ]
  },
  {
   "cell_type": "markdown",
   "metadata": {},
   "source": [
    "## Inputs"
   ]
  },
  {
   "cell_type": "code",
   "execution_count": 11,
   "metadata": {},
   "outputs": [],
   "source": [
    "inputs_agricultura= ['NV.AGR.TOTL.CD']\n",
    "df_inputs_agricultura = read_data(inputs_agricultura)\n",
    "df_inputs_agricultura.fillna(df_inputs_agricultura.mean(), inplace=True)"
   ]
  },
  {
   "cell_type": "markdown",
   "metadata": {},
   "source": [
    "## Outputs"
   ]
  },
  {
   "cell_type": "code",
   "execution_count": 12,
   "metadata": {},
   "outputs": [],
   "source": [
    "outputs_agricultura = ['SL.AGR.EMPL.ZS','SP.RUR.TOTL.ZS','AG.PRD.FOOD.XD']\n",
    "df_outputs_agricultura = read_data(outputs_agricultura)\n",
    "df_outputs_agricultura.fillna(df_outputs_agricultura.mean(), inplace=True)\n",
    "df_outputs_agricultura=df_outputs_agricultura.groupby(level=0).sum()"
   ]
  },
  {
   "cell_type": "markdown",
   "metadata": {},
   "source": [
    "## Model"
   ]
  },
  {
   "cell_type": "code",
   "execution_count": 13,
   "metadata": {},
   "outputs": [
    {
     "name": "stdout",
     "output_type": "stream",
     "text": [
      "x-shape:  (570, 1)\n",
      "y-shape:  (570, 1)\n",
      "Model name:  LassoLars\n",
      "RMSE:  0.349\n",
      "MSE: 0.122\n",
      "R-Squared:  -0.007\n",
      "MAE: 0.238 (0.028)\n",
      "\n",
      "Model name:  Linear regression\n",
      "RMSE:  0.318\n",
      "MSE: 0.101\n",
      "R-Squared:  0.165\n",
      "MAE: 0.219 (0.029)\n",
      "\n",
      "New best-> Linear regression\n",
      "Model name:  Ridge\n",
      "RMSE:  0.319\n",
      "MSE: 0.102\n",
      "R-Squared:  0.161\n",
      "MAE: 0.219 (0.029)\n",
      "\n",
      "Model name:  Lasso\n",
      "RMSE:  0.349\n",
      "MSE: 0.122\n",
      "R-Squared:  -0.007\n",
      "MAE: 0.238 (0.028)\n",
      "\n",
      "Model name:  ElasticNet\n",
      "RMSE:  0.349\n",
      "MSE: 0.122\n",
      "R-Squared:  -0.007\n",
      "MAE: 0.238 (0.028)\n",
      "\n",
      "Model name:  RandomForestRegressor\n",
      "RMSE:  0.266\n",
      "MSE: 0.071\n",
      "R-Squared:  0.415\n",
      "MAE: 0.205 (0.026)\n",
      "\n",
      "New best-> RandomForestRegressor\n",
      "Model name:  Decision Tree Regressor\n",
      "RMSE:  0.258\n",
      "MSE: 0.067\n",
      "R-Squared:  0.45\n",
      "MAE: 0.214 (0.029)\n",
      "\n",
      "New best-> Decision Tree Regressor\n",
      "Model name:  MultiO/P GBR\n",
      "RMSE:  0.311\n",
      "MSE: 0.097\n",
      "R-Squared:  0.201\n",
      "MAE: 0.218 (0.026)\n",
      "\n",
      "Model name:  MultiO/P AdaB\n",
      "RMSE:  0.281\n",
      "MSE: 0.079\n",
      "R-Squared:  0.351\n",
      "MAE: 0.21 (0.027)\n",
      "\n",
      "Model name:  XGBRegressor\n",
      "RMSE:  0.276\n",
      "MSE: 0.076\n",
      "R-Squared:  0.371\n",
      "MAE: 0.204 (0.027)\n",
      "\n",
      "Model name:  K-nn\n",
      "RMSE:  0.275\n",
      "MSE: 0.076\n",
      "R-Squared:  0.375\n",
      "MAE: 0.216 (0.028)\n",
      "\n",
      "Model name:  LinearRegression\n",
      "RMSE:  0.318\n",
      "MSE: 0.101\n",
      "R-Squared:  0.165\n",
      "MAE: 0.219 (0.029)\n",
      "\n",
      "Model name:  CatBoostRegressor\n",
      "RMSE:  0.265\n",
      "MSE: 0.07\n",
      "R-Squared:  0.42\n",
      "MAE: 0.211 (0.026)\n",
      "\n",
      "Model name:  LGBMRegressor\n",
      "RMSE:  0.273\n",
      "MSE: 0.074\n",
      "R-Squared:  0.386\n",
      "MAE: 0.21 (0.025)\n",
      "\n",
      "The best model Decision Tree Regressor\n"
     ]
    }
   ],
   "source": [
    "model_agricultura, normalizer_agricultura =  get_the_best_model(df_inputs_agricultura,df_outputs_agricultura)"
   ]
  },
  {
   "cell_type": "code",
   "execution_count": 14,
   "metadata": {},
   "outputs": [
    {
     "name": "stdout",
     "output_type": "stream",
     "text": [
      "salvo\n"
     ]
    }
   ],
   "source": [
    "save('agricultura',model_agricultura,normalizer_agricultura)"
   ]
  },
  {
   "cell_type": "markdown",
   "metadata": {},
   "source": [
    "## Educação"
   ]
  },
  {
   "cell_type": "markdown",
   "metadata": {},
   "source": [
    "## Inputs"
   ]
  },
  {
   "cell_type": "code",
   "execution_count": 15,
   "metadata": {},
   "outputs": [],
   "source": [
    "inputs_educacao=[\"SE.XPD.PRIM.ZS\", \"SE.XPD.SECO.ZS\", \"SE.XPD.TERT.ZS\"]\n",
    "df_inputs_educacao = read_data(inputs_educacao)\n",
    "df_inputs_educacao.fillna(df_inputs_educacao.mean(), inplace=True)"
   ]
  },
  {
   "cell_type": "markdown",
   "metadata": {},
   "source": [
    "## Outputs Negative"
   ]
  },
  {
   "cell_type": "code",
   "execution_count": 16,
   "metadata": {},
   "outputs": [],
   "source": [
    "ouputs_negative_educacao = ['SE.SEC.CMPT.LO.ZS','SE.SEC.UNER.LO.ZS','SE.PRM.UNER.ZS']"
   ]
  },
  {
   "cell_type": "markdown",
   "metadata": {},
   "source": [
    "## Outputs"
   ]
  },
  {
   "cell_type": "code",
   "execution_count": 17,
   "metadata": {},
   "outputs": [],
   "source": [
    "outputs_educacao = [\"SE.ADT.LITR.ZS\",\"SE.ADT.1524.LT.ZS\",\"SE.PRM.CMPT.ZS\", 'SE.SEC.CMPT.LO.ZS','SE.SEC.UNER.LO.ZS','SE.PRM.UNER.ZS']\n",
    "df_outputs_educacao = read_data(outputs_educacao)\n",
    "df_outputs_educacao.fillna(df_outputs_educacao.mean(), inplace=True)\n",
    "df_outputs_educacao = to_negative(df_outputs_educacao, ouputs_negative_educacao)\n",
    "df_outputs_educacao=df_outputs_educacao.groupby(level=0).sum()"
   ]
  },
  {
   "cell_type": "markdown",
   "metadata": {},
   "source": [
    "## Model"
   ]
  },
  {
   "cell_type": "code",
   "execution_count": 18,
   "metadata": {},
   "outputs": [
    {
     "name": "stdout",
     "output_type": "stream",
     "text": [
      "x-shape:  (570, 3)\n",
      "y-shape:  (570, 1)\n",
      "Model name:  LassoLars\n",
      "RMSE:  0.429\n",
      "MSE: 0.184\n",
      "R-Squared:  -0.001\n",
      "MAE: 0.363 (0.032)\n",
      "\n",
      "Model name:  Linear regression\n",
      "RMSE:  0.425\n",
      "MSE: 0.181\n",
      "R-Squared:  0.015\n",
      "MAE: 0.35 (0.03)\n",
      "\n",
      "New best-> Linear regression\n",
      "Model name:  Ridge\n",
      "RMSE:  0.425\n",
      "MSE: 0.181\n",
      "R-Squared:  0.017\n",
      "MAE: 0.35 (0.03)\n",
      "\n",
      "New best-> Ridge\n",
      "Model name:  Lasso\n",
      "RMSE:  0.429\n",
      "MSE: 0.184\n",
      "R-Squared:  -0.001\n",
      "MAE: 0.363 (0.032)\n",
      "\n",
      "Model name:  ElasticNet\n",
      "RMSE:  0.429\n",
      "MSE: 0.184\n",
      "R-Squared:  -0.001\n",
      "MAE: 0.363 (0.032)\n",
      "\n",
      "Model name:  RandomForestRegressor\n",
      "RMSE:  0.384\n",
      "MSE: 0.147\n",
      "R-Squared:  0.198\n",
      "MAE: 0.323 (0.028)\n",
      "\n",
      "New best-> RandomForestRegressor\n",
      "Model name:  Decision Tree Regressor\n",
      "RMSE:  0.411\n",
      "MSE: 0.169\n",
      "R-Squared:  0.081\n",
      "MAE: 0.334 (0.038)\n",
      "\n",
      "Model name:  MultiO/P GBR\n",
      "RMSE:  0.415\n",
      "MSE: 0.173\n",
      "R-Squared:  0.061\n",
      "MAE: 0.348 (0.031)\n",
      "\n",
      "Model name:  MultiO/P AdaB\n",
      "RMSE:  0.418\n",
      "MSE: 0.175\n",
      "R-Squared:  0.049\n",
      "MAE: 0.344 (0.026)\n",
      "\n",
      "Model name:  XGBRegressor\n",
      "RMSE:  0.388\n",
      "MSE: 0.15\n",
      "R-Squared:  0.182\n",
      "MAE: 0.331 (0.026)\n",
      "\n",
      "Model name:  K-nn\n",
      "RMSE:  0.351\n",
      "MSE: 0.123\n",
      "R-Squared:  0.329\n",
      "MAE: 0.323 (0.04)\n",
      "\n",
      "New best-> K-nn\n",
      "Model name:  LinearRegression\n",
      "RMSE:  0.425\n",
      "MSE: 0.181\n",
      "R-Squared:  0.015\n",
      "MAE: 0.35 (0.03)\n",
      "\n",
      "Model name:  CatBoostRegressor\n",
      "RMSE:  0.351\n",
      "MSE: 0.123\n",
      "R-Squared:  0.331\n",
      "MAE: 0.315 (0.03)\n",
      "\n",
      "New best-> CatBoostRegressor\n",
      "Model name:  LGBMRegressor\n",
      "RMSE:  0.373\n",
      "MSE: 0.139\n",
      "R-Squared:  0.243\n",
      "MAE: 0.317 (0.026)\n",
      "\n",
      "The best model CatBoostRegressor\n"
     ]
    }
   ],
   "source": [
    "model_educacao, normalizer_educacao =  get_the_best_model(df_inputs_educacao,df_outputs_educacao)"
   ]
  },
  {
   "cell_type": "code",
   "execution_count": 19,
   "metadata": {},
   "outputs": [
    {
     "name": "stdout",
     "output_type": "stream",
     "text": [
      "salvo\n"
     ]
    }
   ],
   "source": [
    "save('educacao',model_educacao,normalizer_educacao)"
   ]
  },
  {
   "cell_type": "markdown",
   "metadata": {},
   "source": [
    "## Mudanças climáticas e meio ambiente"
   ]
  },
  {
   "cell_type": "markdown",
   "metadata": {},
   "source": [
    "## Inputs"
   ]
  },
  {
   "cell_type": "code",
   "execution_count": 20,
   "metadata": {},
   "outputs": [],
   "source": [
    "inputs_ambiente = ['EN.ATM.METH.AG.ZS','EN.ATM.METH.AG.KT.CE','EN.ATM.NOXE.AG.ZS','EN.ATM.CO2E.KD.GD']\n",
    "df_inputs_ambiente = read_data(inputs_ambiente)\n",
    "df_inputs_ambiente.fillna(df_inputs_ambiente.mean(), inplace=True)"
   ]
  },
  {
   "cell_type": "markdown",
   "metadata": {},
   "source": [
    "## Ouputs"
   ]
  },
  {
   "cell_type": "code",
   "execution_count": 21,
   "metadata": {},
   "outputs": [],
   "source": [
    "outputs_ambiente = [\"EG.ELC.ACCS.ZS\",\"EG.ELC.HYRO.ZS\",\"EG.ELC.RNWX.ZS\"]\n",
    "df_outputs_ambiente = read_data(outputs_ambiente)\n",
    "df_outputs_ambiente.fillna(df_outputs_ambiente.mean(), inplace=True)\n",
    "df_outputs_ambiente=df_outputs_ambiente.groupby(level=0).sum()"
   ]
  },
  {
   "cell_type": "markdown",
   "metadata": {},
   "source": [
    "## Model"
   ]
  },
  {
   "cell_type": "code",
   "execution_count": 22,
   "metadata": {},
   "outputs": [],
   "source": [
    "df_outputs_ambiente=df_outputs_ambiente*100"
   ]
  },
  {
   "cell_type": "code",
   "execution_count": 23,
   "metadata": {},
   "outputs": [
    {
     "name": "stdout",
     "output_type": "stream",
     "text": [
      "x-shape:  (570, 4)\n",
      "y-shape:  (570, 1)\n",
      "Model name:  LassoLars\n",
      "RMSE:  0.491\n",
      "MSE: 0.241\n",
      "R-Squared:  0.101\n",
      "MAE: 0.36 (0.035)\n",
      "\n",
      "New best-> LassoLars\n",
      "Model name:  Linear regression\n",
      "RMSE:  0.465\n",
      "MSE: 0.216\n",
      "R-Squared:  0.194\n",
      "MAE: 0.355 (0.028)\n",
      "\n",
      "New best-> Linear regression\n",
      "Model name:  Ridge\n",
      "RMSE:  0.473\n",
      "MSE: 0.224\n",
      "R-Squared:  0.167\n",
      "MAE: 0.342 (0.03)\n",
      "\n",
      "Model name:  Lasso\n",
      "RMSE:  0.519\n",
      "MSE: 0.269\n",
      "R-Squared:  -0.003\n",
      "MAE: 0.376 (0.04)\n",
      "\n",
      "Model name:  ElasticNet\n",
      "RMSE:  0.519\n",
      "MSE: 0.269\n",
      "R-Squared:  -0.003\n",
      "MAE: 0.376 (0.04)\n",
      "\n",
      "Model name:  RandomForestRegressor\n",
      "RMSE:  0.117\n",
      "MSE: 0.014\n",
      "R-Squared:  0.949\n",
      "MAE: 0.081 (0.011)\n",
      "\n",
      "New best-> RandomForestRegressor\n",
      "Model name:  Decision Tree Regressor\n",
      "RMSE:  0.127\n",
      "MSE: 0.016\n",
      "R-Squared:  0.94\n",
      "MAE: 0.084 (0.012)\n",
      "\n",
      "Model name:  MultiO/P GBR\n",
      "RMSE:  0.36\n",
      "MSE: 0.129\n",
      "R-Squared:  0.519\n",
      "MAE: 0.274 (0.031)\n",
      "\n",
      "Model name:  MultiO/P AdaB\n",
      "RMSE:  0.183\n",
      "MSE: 0.034\n",
      "R-Squared:  0.875\n",
      "MAE: 0.161 (0.021)\n",
      "\n",
      "Model name:  XGBRegressor\n",
      "RMSE:  0.163\n",
      "MSE: 0.027\n",
      "R-Squared:  0.9\n",
      "MAE: 0.135 (0.014)\n",
      "\n",
      "Model name:  K-nn\n",
      "RMSE:  0.37\n",
      "MSE: 0.137\n",
      "R-Squared:  0.49\n",
      "MAE: 0.217 (0.03)\n",
      "\n",
      "Model name:  LinearRegression\n",
      "RMSE:  0.465\n",
      "MSE: 0.216\n",
      "R-Squared:  0.194\n",
      "MAE: 0.355 (0.028)\n",
      "\n",
      "Model name:  CatBoostRegressor\n",
      "RMSE:  0.073\n",
      "MSE: 0.005\n",
      "R-Squared:  0.98\n",
      "MAE: 0.044 (0.006)\n",
      "\n",
      "New best-> CatBoostRegressor\n",
      "Model name:  LGBMRegressor\n",
      "RMSE:  0.232\n",
      "MSE: 0.054\n",
      "R-Squared:  0.8\n",
      "MAE: 0.101 (0.023)\n",
      "\n",
      "The best model CatBoostRegressor\n"
     ]
    }
   ],
   "source": [
    "model_ambiente,normalizer_ambiente=get_the_best_model(df_inputs_ambiente, df_outputs_ambiente)"
   ]
  },
  {
   "cell_type": "code",
   "execution_count": 24,
   "metadata": {},
   "outputs": [
    {
     "name": "stdout",
     "output_type": "stream",
     "text": [
      "salvo\n"
     ]
    }
   ],
   "source": [
    "save('ambiente',model_ambiente,normalizer_ambiente)"
   ]
  },
  {
   "cell_type": "markdown",
   "metadata": {},
   "source": [
    "## Saúde"
   ]
  },
  {
   "cell_type": "markdown",
   "metadata": {},
   "source": [
    "## Input"
   ]
  },
  {
   "cell_type": "code",
   "execution_count": 25,
   "metadata": {},
   "outputs": [],
   "source": [
    "inputs_saude = ['SH.XPD.CHEX.GD.ZS']\n",
    "df_inputs_saude = read_data(inputs_saude)\n",
    "df_inputs_saude.fillna(df_inputs_saude.mean(), inplace=True)"
   ]
  },
  {
   "cell_type": "markdown",
   "metadata": {},
   "source": [
    "## Outputs"
   ]
  },
  {
   "cell_type": "code",
   "execution_count": 26,
   "metadata": {},
   "outputs": [],
   "source": [
    "outputs_saude = ['SH.STA.BASS.ZS','SH.MED.BEDS.ZS','SH.MED.NUMW.P3','SH.MED.PHYS.ZS']\n",
    "df_outputs_saude = read_data(outputs_saude)\n",
    "df_outputs_saude.fillna(df_outputs_saude.mean(), inplace=True)\n",
    "df_outputs_saude = df_outputs_saude.groupby(level=0).sum()"
   ]
  },
  {
   "cell_type": "markdown",
   "metadata": {},
   "source": [
    "## Model"
   ]
  },
  {
   "cell_type": "code",
   "execution_count": 27,
   "metadata": {},
   "outputs": [
    {
     "name": "stdout",
     "output_type": "stream",
     "text": [
      "x-shape:  (570, 1)\n",
      "y-shape:  (570, 1)\n",
      "Model name:  LassoLars\n",
      "RMSE:  0.41\n",
      "MSE: 0.168\n",
      "R-Squared:  -0.006\n",
      "MAE: 0.306 (0.034)\n",
      "\n",
      "Model name:  Linear regression\n",
      "RMSE:  0.354\n",
      "MSE: 0.126\n",
      "R-Squared:  0.248\n",
      "MAE: 0.208 (0.035)\n",
      "\n",
      "New best-> Linear regression\n",
      "Model name:  Ridge\n",
      "RMSE:  0.354\n",
      "MSE: 0.126\n",
      "R-Squared:  0.248\n",
      "MAE: 0.209 (0.035)\n",
      "\n",
      "Model name:  Lasso\n",
      "RMSE:  0.41\n",
      "MSE: 0.168\n",
      "R-Squared:  -0.006\n",
      "MAE: 0.307 (0.035)\n",
      "\n",
      "Model name:  ElasticNet\n",
      "RMSE:  0.41\n",
      "MSE: 0.168\n",
      "R-Squared:  -0.006\n",
      "MAE: 0.307 (0.035)\n",
      "\n",
      "Model name:  RandomForestRegressor\n",
      "RMSE:  0.356\n",
      "MSE: 0.127\n",
      "R-Squared:  0.242\n",
      "MAE: 0.187 (0.033)\n",
      "\n",
      "Model name:  Decision Tree Regressor\n",
      "RMSE:  0.356\n",
      "MSE: 0.127\n",
      "R-Squared:  0.24\n",
      "MAE: 0.187 (0.032)\n",
      "\n",
      "Model name:  MultiO/P GBR\n",
      "RMSE:  0.375\n",
      "MSE: 0.141\n",
      "R-Squared:  0.155\n",
      "MAE: 0.245 (0.035)\n",
      "\n",
      "Model name:  MultiO/P AdaB\n",
      "RMSE:  0.363\n",
      "MSE: 0.132\n",
      "R-Squared:  0.211\n",
      "MAE: 0.187 (0.036)\n",
      "\n",
      "Model name:  XGBRegressor\n",
      "RMSE:  0.363\n",
      "MSE: 0.132\n",
      "R-Squared:  0.211\n",
      "MAE: 0.214 (0.031)\n",
      "\n",
      "Model name:  K-nn\n",
      "RMSE:  0.367\n",
      "MSE: 0.135\n",
      "R-Squared:  0.192\n",
      "MAE: 0.363 (0.039)\n",
      "\n",
      "Model name:  LinearRegression\n",
      "RMSE:  0.354\n",
      "MSE: 0.126\n",
      "R-Squared:  0.248\n",
      "MAE: 0.208 (0.035)\n",
      "\n",
      "Model name:  CatBoostRegressor\n",
      "RMSE:  0.356\n",
      "MSE: 0.127\n",
      "R-Squared:  0.241\n",
      "MAE: 0.189 (0.032)\n",
      "\n",
      "Model name:  LGBMRegressor\n",
      "RMSE:  0.355\n",
      "MSE: 0.126\n",
      "R-Squared:  0.243\n",
      "MAE: 0.186 (0.032)\n",
      "\n",
      "The best model Linear regression\n"
     ]
    }
   ],
   "source": [
    "model_saude,normalizer_saude=get_the_best_model(df_inputs_saude, df_outputs_saude)"
   ]
  },
  {
   "cell_type": "code",
   "execution_count": 28,
   "metadata": {},
   "outputs": [
    {
     "name": "stdout",
     "output_type": "stream",
     "text": [
      "salvo\n"
     ]
    }
   ],
   "source": [
    "save('saude',model_saude,normalizer_saude)"
   ]
  },
  {
   "cell_type": "markdown",
   "metadata": {},
   "source": [
    "## Infraestreutura, Ciência e Tecnologia"
   ]
  },
  {
   "cell_type": "markdown",
   "metadata": {},
   "source": [
    "## Input"
   ]
  },
  {
   "cell_type": "code",
   "execution_count": 29,
   "metadata": {},
   "outputs": [],
   "source": [
    "inputs_ciencia = ['GB.XPD.RSDV.GD.ZS']\n",
    "df_inputs_ciencia = read_data(inputs_ciencia)\n",
    "df_inputs_ciencia.fillna(df_inputs_ciencia.mean(), inplace=True)"
   ]
  },
  {
   "cell_type": "markdown",
   "metadata": {},
   "source": [
    "## Output"
   ]
  },
  {
   "cell_type": "code",
   "execution_count": 30,
   "metadata": {},
   "outputs": [],
   "source": [
    "outputs_ciencia =['IT.NET.SECR.P6','EP.PMP.SGAS.CD','IP.JRN.ARTC.SC','IP.IDS.NRCT','IP.IDS.RSCT','IS.RRS.GOOD.MT.K6']\n",
    "df_outputs_ciencia = read_data(outputs_ciencia)\n",
    "df_outputs_ciencia.fillna(df_outputs_ciencia.mean(), inplace=True)\n",
    "df_outputs_ciencia=df_outputs_ciencia.groupby(level=0).sum()"
   ]
  },
  {
   "cell_type": "markdown",
   "metadata": {},
   "source": [
    "## Model"
   ]
  },
  {
   "cell_type": "code",
   "execution_count": 31,
   "metadata": {},
   "outputs": [
    {
     "name": "stdout",
     "output_type": "stream",
     "text": [
      "x-shape:  (570, 1)\n",
      "y-shape:  (570, 1)\n",
      "Model name:  LassoLars\n",
      "RMSE:  0.354\n",
      "MSE: 0.125\n",
      "R-Squared:  -0.02\n",
      "MAE: 0.259 (0.039)\n",
      "\n",
      "Model name:  Linear regression\n",
      "RMSE:  0.334\n",
      "MSE: 0.112\n",
      "R-Squared:  0.092\n",
      "MAE: 0.251 (0.038)\n",
      "\n",
      "New best-> Linear regression\n",
      "Model name:  Ridge\n",
      "RMSE:  0.334\n",
      "MSE: 0.112\n",
      "R-Squared:  0.092\n",
      "MAE: 0.251 (0.038)\n",
      "\n",
      "New best-> Ridge\n",
      "Model name:  Lasso\n",
      "RMSE:  0.354\n",
      "MSE: 0.125\n",
      "R-Squared:  -0.02\n",
      "MAE: 0.259 (0.039)\n",
      "\n",
      "Model name:  ElasticNet\n",
      "RMSE:  0.354\n",
      "MSE: 0.125\n",
      "R-Squared:  -0.02\n",
      "MAE: 0.259 (0.039)\n",
      "\n",
      "Model name:  RandomForestRegressor\n",
      "RMSE:  0.276\n",
      "MSE: 0.076\n",
      "R-Squared:  0.38\n",
      "MAE: 0.206 (0.048)\n",
      "\n",
      "New best-> RandomForestRegressor\n",
      "Model name:  Decision Tree Regressor\n",
      "RMSE:  0.265\n",
      "MSE: 0.07\n",
      "R-Squared:  0.429\n",
      "MAE: 0.217 (0.053)\n",
      "\n",
      "New best-> Decision Tree Regressor\n",
      "Model name:  MultiO/P GBR\n",
      "RMSE:  0.308\n",
      "MSE: 0.095\n",
      "R-Squared:  0.226\n",
      "MAE: 0.233 (0.04)\n",
      "\n",
      "Model name:  MultiO/P AdaB\n",
      "RMSE:  0.323\n",
      "MSE: 0.105\n",
      "R-Squared:  0.148\n",
      "MAE: 0.243 (0.046)\n",
      "\n",
      "Model name:  XGBRegressor\n",
      "RMSE:  0.286\n",
      "MSE: 0.082\n",
      "R-Squared:  0.336\n",
      "MAE: 0.243 (0.04)\n",
      "\n",
      "Model name:  K-nn\n",
      "RMSE:  0.29\n",
      "MSE: 0.084\n",
      "R-Squared:  0.317\n",
      "MAE: 0.224 (0.051)\n",
      "\n",
      "Model name:  LinearRegression\n",
      "RMSE:  0.334\n",
      "MSE: 0.112\n",
      "R-Squared:  0.092\n",
      "MAE: 0.251 (0.038)\n",
      "\n",
      "Model name:  CatBoostRegressor\n",
      "RMSE:  0.287\n",
      "MSE: 0.082\n",
      "R-Squared:  0.329\n",
      "MAE: 0.215 (0.052)\n",
      "\n",
      "Model name:  LGBMRegressor\n",
      "RMSE:  0.297\n",
      "MSE: 0.088\n",
      "R-Squared:  0.283\n",
      "MAE: 0.214 (0.048)\n",
      "\n",
      "The best model Decision Tree Regressor\n",
      "salvo\n"
     ]
    }
   ],
   "source": [
    "model_ciencia,normalizer_ciencia=get_the_best_model(df_inputs_ciencia, df_outputs_ciencia)\n",
    "save('ciencia',model_ciencia,normalizer_ciencia)"
   ]
  },
  {
   "cell_type": "markdown",
   "metadata": {},
   "source": [
    "## Desenvolvimento "
   ]
  },
  {
   "cell_type": "markdown",
   "metadata": {},
   "source": [
    "## Input"
   ]
  },
  {
   "cell_type": "code",
   "execution_count": 32,
   "metadata": {},
   "outputs": [],
   "source": [
    "inputs_desenvolvimento = ['SI.POV.GINI']\n",
    "df_inputs_desenvolvimento = read_data(inputs_desenvolvimento)\n",
    "df_inputs_desenvolvimento.fillna(df_inputs_desenvolvimento.mean(), inplace=True)"
   ]
  },
  {
   "cell_type": "markdown",
   "metadata": {},
   "source": [
    "## Negative Output"
   ]
  },
  {
   "cell_type": "code",
   "execution_count": 33,
   "metadata": {},
   "outputs": [],
   "source": [
    "negative_ouputs_desenvolvimento = ['SI.DST.50MD']"
   ]
  },
  {
   "cell_type": "markdown",
   "metadata": {},
   "source": [
    "## Output"
   ]
  },
  {
   "cell_type": "code",
   "execution_count": 34,
   "metadata": {},
   "outputs": [],
   "source": [
    "outputs_desenvolvimento = ['SL.EMP.VULN.ZS','SL.UEM.TOTL.NE.ZS','SI.DST.50MD']\n",
    "df_outputs_desenvolvimento = read_data(outputs_desenvolvimento)\n",
    "df_outputs_desenvolvimento.fillna(df_outputs_desenvolvimento.mean(), inplace=True)\n",
    "df_outputs_desenvolvimento = to_negative(df_outputs_desenvolvimento, negative_ouputs_desenvolvimento)\n",
    "df_outputs_desenvolvimento = df_outputs_desenvolvimento.groupby(level=0).sum()"
   ]
  },
  {
   "cell_type": "markdown",
   "metadata": {},
   "source": [
    "## Model"
   ]
  },
  {
   "cell_type": "code",
   "execution_count": 35,
   "metadata": {},
   "outputs": [
    {
     "name": "stdout",
     "output_type": "stream",
     "text": [
      "x-shape:  (570, 1)\n",
      "y-shape:  (570, 1)\n",
      "Model name:  LassoLars\n",
      "RMSE:  0.424\n",
      "MSE: 0.18\n",
      "R-Squared:  -0.014\n",
      "MAE: 0.308 (0.044)\n",
      "\n",
      "Model name:  Linear regression\n",
      "RMSE:  0.424\n",
      "MSE: 0.18\n",
      "R-Squared:  -0.012\n",
      "MAE: 0.31 (0.044)\n",
      "\n",
      "Model name:  Ridge\n",
      "RMSE:  0.424\n",
      "MSE: 0.18\n",
      "R-Squared:  -0.012\n",
      "MAE: 0.31 (0.044)\n",
      "\n",
      "Model name:  Lasso\n",
      "RMSE:  0.424\n",
      "MSE: 0.18\n",
      "R-Squared:  -0.014\n",
      "MAE: 0.308 (0.044)\n",
      "\n",
      "Model name:  ElasticNet\n",
      "RMSE:  0.424\n",
      "MSE: 0.18\n",
      "R-Squared:  -0.014\n",
      "MAE: 0.308 (0.044)\n",
      "\n",
      "Model name:  RandomForestRegressor\n",
      "RMSE:  0.434\n",
      "MSE: 0.189\n",
      "R-Squared:  -0.062\n",
      "MAE: 0.306 (0.048)\n",
      "\n",
      "Model name:  Decision Tree Regressor\n",
      "RMSE:  0.451\n",
      "MSE: 0.203\n",
      "R-Squared:  -0.143\n",
      "MAE: 0.316 (0.05)\n",
      "\n",
      "Model name:  MultiO/P GBR\n",
      "RMSE:  0.424\n",
      "MSE: 0.18\n",
      "R-Squared:  -0.012\n",
      "MAE: 0.306 (0.045)\n",
      "\n",
      "Model name:  MultiO/P AdaB\n",
      "RMSE:  0.443\n",
      "MSE: 0.196\n",
      "R-Squared:  -0.102\n",
      "MAE: 0.335 (0.047)\n",
      "\n",
      "Model name:  XGBRegressor\n",
      "RMSE:  0.436\n",
      "MSE: 0.19\n",
      "R-Squared:  -0.071\n",
      "MAE: 0.321 (0.047)\n",
      "\n",
      "Model name:  K-nn\n",
      "RMSE:  0.481\n",
      "MSE: 0.232\n",
      "R-Squared:  -0.303\n",
      "MAE: 0.327 (0.051)\n",
      "\n",
      "Model name:  LinearRegression\n",
      "RMSE:  0.424\n",
      "MSE: 0.18\n",
      "R-Squared:  -0.012\n",
      "MAE: 0.31 (0.044)\n",
      "\n",
      "Model name:  CatBoostRegressor\n",
      "RMSE:  0.447\n",
      "MSE: 0.2\n",
      "R-Squared:  -0.127\n",
      "MAE: 0.313 (0.049)\n",
      "\n",
      "Model name:  LGBMRegressor\n",
      "RMSE:  0.443\n",
      "MSE: 0.196\n",
      "R-Squared:  -0.104\n",
      "MAE: 0.311 (0.048)\n",
      "\n",
      "The best model None\n",
      "salvo\n"
     ]
    }
   ],
   "source": [
    "model_desenvolvimento,normalizer_desenvolvimento = get_the_best_model(df_inputs_desenvolvimento, df_outputs_desenvolvimento)\n",
    "save('desenvolvimento',model_desenvolvimento,normalizer_desenvolvimento)"
   ]
  },
  {
   "cell_type": "markdown",
   "metadata": {},
   "source": [
    "## Banco Central"
   ]
  },
  {
   "cell_type": "markdown",
   "metadata": {},
   "source": [
    "## Input"
   ]
  },
  {
   "cell_type": "code",
   "execution_count": 36,
   "metadata": {},
   "outputs": [],
   "source": [
    "inputs_banco = ['FR.INR.DPST']"
   ]
  },
  {
   "cell_type": "code",
   "execution_count": 37,
   "metadata": {},
   "outputs": [],
   "source": [
    "df_inputs_banco= read_data(inputs_banco)\n",
    "df_inputs_banco.fillna(df_inputs_banco.mean(), inplace=True)"
   ]
  },
  {
   "cell_type": "markdown",
   "metadata": {},
   "source": [
    "## Outputs"
   ]
  },
  {
   "cell_type": "code",
   "execution_count": 38,
   "metadata": {},
   "outputs": [],
   "source": [
    "outputs_banco = ['FM.LBL.BMNY.GD.ZS','FM.LBL.BMNY.ZG','FP.CPI.TOTL.ZG','NY.GDP.DEFL.KD.ZG.AD','PA.NUS.FCRF']\n",
    "df_outputs_banco = read_data(outputs_banco)\n",
    "df_outputs_banco.fillna(df_outputs_banco.mean(), inplace=True)\n",
    "df_outputs_banco=df_outputs_banco.groupby(level=0).sum()"
   ]
  },
  {
   "cell_type": "markdown",
   "metadata": {},
   "source": [
    "## Model"
   ]
  },
  {
   "cell_type": "code",
   "execution_count": 39,
   "metadata": {},
   "outputs": [
    {
     "name": "stdout",
     "output_type": "stream",
     "text": [
      "x-shape:  (570, 1)\n",
      "y-shape:  (570, 1)\n",
      "Model name:  LassoLars\n",
      "RMSE:  0.259\n",
      "MSE: 0.067\n",
      "R-Squared:  -0.003\n",
      "MAE: 0.135 (0.036)\n",
      "\n",
      "Model name:  Linear regression\n",
      "RMSE:  0.251\n",
      "MSE: 0.063\n",
      "R-Squared:  0.059\n",
      "MAE: 0.13 (0.036)\n",
      "\n",
      "New best-> Linear regression\n",
      "Model name:  Ridge\n",
      "RMSE:  0.247\n",
      "MSE: 0.061\n",
      "R-Squared:  0.086\n",
      "MAE: 0.13 (0.036)\n",
      "\n",
      "New best-> Ridge\n",
      "Model name:  Lasso\n",
      "RMSE:  0.259\n",
      "MSE: 0.067\n",
      "R-Squared:  -0.003\n",
      "MAE: 0.135 (0.036)\n",
      "\n",
      "Model name:  ElasticNet\n",
      "RMSE:  0.259\n",
      "MSE: 0.067\n",
      "R-Squared:  -0.003\n",
      "MAE: 0.135 (0.036)\n",
      "\n",
      "Model name:  RandomForestRegressor\n",
      "RMSE:  0.23\n",
      "MSE: 0.053\n",
      "R-Squared:  0.205\n",
      "MAE: 0.125 (0.037)\n",
      "\n",
      "New best-> RandomForestRegressor\n",
      "Model name:  Decision Tree Regressor\n",
      "RMSE:  0.265\n",
      "MSE: 0.07\n",
      "R-Squared:  -0.055\n",
      "MAE: 0.13 (0.035)\n",
      "\n",
      "Model name:  MultiO/P GBR\n",
      "RMSE:  0.245\n",
      "MSE: 0.06\n",
      "R-Squared:  0.102\n",
      "MAE: 0.131 (0.036)\n",
      "\n",
      "Model name:  MultiO/P AdaB\n",
      "RMSE:  0.302\n",
      "MSE: 0.091\n",
      "R-Squared:  -0.369\n",
      "MAE: 0.175 (0.057)\n",
      "\n",
      "Model name:  XGBRegressor\n",
      "RMSE:  0.244\n",
      "MSE: 0.06\n",
      "R-Squared:  0.106\n",
      "MAE: 0.177 (0.033)\n",
      "\n",
      "Model name:  K-nn\n",
      "RMSE:  0.251\n",
      "MSE: 0.063\n",
      "R-Squared:  0.059\n",
      "MAE: 0.122 (0.039)\n",
      "\n",
      "Model name:  LinearRegression\n",
      "RMSE:  0.251\n",
      "MSE: 0.063\n",
      "R-Squared:  0.059\n",
      "MAE: 0.13 (0.036)\n",
      "\n",
      "Model name:  CatBoostRegressor\n",
      "RMSE:  0.234\n",
      "MSE: 0.055\n",
      "R-Squared:  0.177\n",
      "MAE: 0.128 (0.041)\n",
      "\n",
      "Model name:  LGBMRegressor\n",
      "RMSE:  0.252\n",
      "MSE: 0.064\n",
      "R-Squared:  0.048\n",
      "MAE: 0.134 (0.037)\n",
      "\n",
      "The best model RandomForestRegressor\n",
      "salvo\n"
     ]
    }
   ],
   "source": [
    "model_banco,normalizer_banco=get_the_best_model(df_inputs_banco, df_outputs_banco)\n",
    "save('banco',model_banco,normalizer_banco)"
   ]
  },
  {
   "cell_type": "markdown",
   "metadata": {},
   "source": [
    "# Economia"
   ]
  },
  {
   "cell_type": "markdown",
   "metadata": {},
   "source": [
    "## Input"
   ]
  },
  {
   "cell_type": "code",
   "execution_count": 40,
   "metadata": {},
   "outputs": [],
   "source": [
    "inputs_economia =['NV.IND.TOTL.CD','NV.IND.MANF.CD','NV.SRV.TOTL.CD']\n",
    "df_inputs_economia = read_data(inputs_economia)\n",
    "df_inputs_economia.fillna(df_inputs_economia.mean(), inplace=True)"
   ]
  },
  {
   "cell_type": "markdown",
   "metadata": {},
   "source": [
    "## Output"
   ]
  },
  {
   "cell_type": "code",
   "execution_count": 41,
   "metadata": {},
   "outputs": [],
   "source": [
    "outputs_economia = ['NY.GDS.TOTL.CD','NE.RSB.GNFS.CD','NE.CON.TOTL.CD']\n",
    "df_outputs_economia = read_data(outputs_economia)\n",
    "\n",
    "\n",
    "df_outputs_economia.fillna(df_outputs_economia.mean(), inplace=True)\n",
    "df_outputs_economia=df_outputs_economia.groupby(level=0).sum()\n"
   ]
  },
  {
   "cell_type": "markdown",
   "metadata": {},
   "source": [
    "## Model"
   ]
  },
  {
   "cell_type": "code",
   "execution_count": 42,
   "metadata": {
    "scrolled": true
   },
   "outputs": [
    {
     "name": "stdout",
     "output_type": "stream",
     "text": [
      "x-shape:  (570, 3)\n",
      "y-shape:  (570, 1)\n",
      "Model name:  LassoLars\n",
      "RMSE:  0.238\n",
      "MSE: 0.057\n",
      "R-Squared:  -0.015\n",
      "MAE: 0.181 (0.03)\n",
      "\n",
      "Model name:  Linear regression\n",
      "RMSE:  0.09\n",
      "MSE: 0.008\n",
      "R-Squared:  0.855\n",
      "MAE: 0.025 (0.008)\n",
      "\n",
      "New best-> Linear regression\n",
      "Model name:  Ridge\n",
      "RMSE:  0.09\n",
      "MSE: 0.008\n",
      "R-Squared:  0.855\n",
      "MAE: 0.025 (0.008)\n",
      "\n",
      "New best-> Ridge\n",
      "Model name:  Lasso\n",
      "RMSE:  0.238\n",
      "MSE: 0.057\n",
      "R-Squared:  -0.015\n",
      "MAE: 0.181 (0.03)\n",
      "\n",
      "Model name:  ElasticNet\n",
      "RMSE:  0.238\n",
      "MSE: 0.057\n",
      "R-Squared:  -0.015\n",
      "MAE: 0.181 (0.03)\n",
      "\n",
      "Model name:  RandomForestRegressor\n",
      "RMSE:  0.079\n",
      "MSE: 0.006\n",
      "R-Squared:  0.889\n",
      "MAE: 0.029 (0.007)\n",
      "\n",
      "New best-> RandomForestRegressor\n",
      "Model name:  Decision Tree Regressor\n",
      "RMSE:  0.085\n",
      "MSE: 0.007\n",
      "R-Squared:  0.87\n",
      "MAE: 0.037 (0.008)\n",
      "\n",
      "Model name:  MultiO/P GBR\n",
      "RMSE:  0.156\n",
      "MSE: 0.024\n",
      "R-Squared:  0.566\n",
      "MAE: 0.116 (0.019)\n",
      "\n",
      "Model name:  MultiO/P AdaB\n",
      "RMSE:  0.09\n",
      "MSE: 0.008\n",
      "R-Squared:  0.854\n",
      "MAE: 0.057 (0.01)\n",
      "\n",
      "Model name:  XGBRegressor\n",
      "RMSE:  0.102\n",
      "MSE: 0.01\n",
      "R-Squared:  0.816\n",
      "MAE: 0.081 (0.007)\n",
      "\n",
      "Model name:  K-nn\n",
      "RMSE:  0.066\n",
      "MSE: 0.004\n",
      "R-Squared:  0.922\n",
      "MAE: 0.023 (0.008)\n",
      "\n",
      "New best-> K-nn\n",
      "Model name:  LinearRegression\n",
      "RMSE:  0.09\n",
      "MSE: 0.008\n",
      "R-Squared:  0.855\n",
      "MAE: 0.025 (0.008)\n",
      "\n",
      "Model name:  CatBoostRegressor\n",
      "RMSE:  0.092\n",
      "MSE: 0.008\n",
      "R-Squared:  0.85\n",
      "MAE: 0.024 (0.01)\n",
      "\n",
      "Model name:  LGBMRegressor\n",
      "RMSE:  0.079\n",
      "MSE: 0.006\n",
      "R-Squared:  0.887\n",
      "MAE: 0.032 (0.01)\n",
      "\n",
      "The best model K-nn\n",
      "salvo\n"
     ]
    }
   ],
   "source": [
    "model_economia, normalizer_economia = get_the_best_model(df_inputs_economia, df_outputs_economia)\n",
    "save('economia', model_economia, normalizer_economia)"
   ]
  }
 ],
 "metadata": {
  "interpreter": {
   "hash": "37bbc7f7fe73355863c3a754faf63a7998dc97274c1e8f7a5c4a6a33bc20608b"
  },
  "kernelspec": {
   "display_name": "jogo_economia_sensata",
   "language": "python",
   "name": "python3"
  },
  "language_info": {
   "codemirror_mode": {
    "name": "ipython",
    "version": 3
   },
   "file_extension": ".py",
   "mimetype": "text/x-python",
   "name": "python",
   "nbconvert_exporter": "python",
   "pygments_lexer": "ipython3",
   "version": "3.8.5"
  }
 },
 "nbformat": 4,
 "nbformat_minor": 4
}
