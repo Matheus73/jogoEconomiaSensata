{
 "cells": [
  {
   "cell_type": "markdown",
   "metadata": {},
   "source": [
    "# Imports"
   ]
  },
  {
   "cell_type": "code",
   "execution_count": 149,
   "metadata": {},
   "outputs": [],
   "source": [
    "import wbgapi as wb\n",
    "import pandas as pd\n",
    "from xgboost import XGBRegressor\n",
    "from sklearn.model_selection import train_test_split\n",
    "from sklearn.metrics import r2_score\n",
    "import numpy as np\n",
    "from sklearn.metrics import mean_squared_error as mse\n",
    "from yellowbrick.regressor import residuals_plot, ResidualsPlot\n",
    "from yellowbrick.regressor import prediction_error\n",
    "from sklearn.preprocessing import MinMaxScaler\n",
    "from sklearn.preprocessing import Normalizer\n",
    "from sklearn.multioutput import MultiOutputRegressor\n",
    "import pickle\n",
    "\n",
    "from numpy import mean\n",
    "from numpy import std\n",
    "from numpy import absolute\n",
    "\n",
    "from sklearn.linear_model import LinearRegression\n",
    "from lightgbm import LGBMRegressor\n",
    "from sklearn.metrics import mean_squared_error\n",
    "from sklearn.neighbors import KNeighborsRegressor\n",
    "from sklearn.linear_model import Lasso\n",
    "from sklearn.linear_model import ElasticNet\n",
    "from sklearn.linear_model import LinearRegression\n",
    "from sklearn.linear_model import RidgeCV\n",
    "from sklearn.linear_model import LassoLars\n",
    "\n",
    "from sklearn.ensemble import ExtraTreesRegressor\n",
    "from sklearn.ensemble import GradientBoostingRegressor\n",
    "from sklearn.ensemble import RandomForestRegressor\n",
    "from sklearn.ensemble import AdaBoostRegressor\n",
    "\n",
    "from sklearn.tree import DecisionTreeRegressor\n",
    "from sklearn.model_selection import cross_val_score\n",
    "from sklearn.model_selection import RepeatedKFold\n"
   ]
  },
  {
   "cell_type": "markdown",
   "metadata": {},
   "source": [
    "# Models"
   ]
  },
  {
   "cell_type": "code",
   "execution_count": 2,
   "metadata": {},
   "outputs": [],
   "source": [
    "MODELS = {\n",
    "    \"LassoLars\": MultiOutputRegressor( LassoLars(alpha=.1, normalize=False)),\n",
    "    \"Linear regression\":MultiOutputRegressor(LinearRegression()),\n",
    "    \"Ridge\": MultiOutputRegressor(RidgeCV()),\n",
    "    \"Lasso\": MultiOutputRegressor(Lasso()),\n",
    "    \"ElasticNet\": MultiOutputRegressor( ElasticNet(random_state=42)),\n",
    "    \"RandomForestRegressor\": MultiOutputRegressor(RandomForestRegressor(max_depth=4, random_state=42)),\n",
    "    \"Decision Tree Regressor\":MultiOutputRegressor(DecisionTreeRegressor(max_depth=5)),\n",
    "    \"MultiO/P GBR\" :MultiOutputRegressor(GradientBoostingRegressor(n_estimators=5)),\n",
    "    \"MultiO/P AdaB\" :MultiOutputRegressor(AdaBoostRegressor(n_estimators=5)),\n",
    "    \"XGBRegressor\": MultiOutputRegressor(XGBRegressor(max_depth=3, n_estimators=100, n_jobs=3,\n",
    "                           objective='reg:squarederror',\n",
    "                           random_state=42, learning_rate=0.03)),\n",
    "    \"K-nn\": MultiOutputRegressor( KNeighborsRegressor()),\n",
    "    \"LinearRegression\":MultiOutputRegressor(LinearRegression()),\n",
    "    \n",
    "}"
   ]
  },
  {
   "cell_type": "markdown",
   "metadata": {},
   "source": [
    "# Functions"
   ]
  },
  {
   "cell_type": "code",
   "execution_count": 3,
   "metadata": {},
   "outputs": [],
   "source": [
    "def read_data(codes):\n",
    "    worldbank_data = wb.data.DataFrame(codes, \n",
    "                                       ['DEU', 'AUS', 'CAN', 'USA', 'FRA', 'ITA', 'JPN', 'GBR', 'ZAF', 'SAU', 'ARG', 'BRA', 'CHN', 'KOR', 'IND', 'IDN', 'MEX', 'RUS', 'TUR'],\n",
    "                                      range(1990, 2020, 1))\n",
    "    return worldbank_data"
   ]
  },
  {
   "cell_type": "code",
   "execution_count": 4,
   "metadata": {},
   "outputs": [],
   "source": [
    "def get_data(data):\n",
    "    dict_data={}\n",
    "    \n",
    "    for index, row in data.items():\n",
    "        if len(row)>19:\n",
    "            for index2, row2 in row.items():\n",
    "                if not dict_data.get(index2[1]):\n",
    "                    dict_data[index2[1]]=[]\n",
    "                dict_data.get(index2[1]).append(row2)\n",
    "        else:\n",
    "            for index2, row2 in row.items():\n",
    "                if not dict_data.get(\"coluna\"):\n",
    "                    dict_data[\"coluna\"]=[]\n",
    "                dict_data.get(\"coluna\").append(row2)\n",
    "    return pd.DataFrame(dict_data)"
   ]
  },
  {
   "cell_type": "code",
   "execution_count": 171,
   "metadata": {},
   "outputs": [],
   "source": [
    "def get_model(input, output):\n",
    "    \n",
    "    data_input = get_data(input)\n",
    "    data_output = get_data(output)\n",
    "    \n",
    "    normalizer = MinMaxScaler(feature_range = (-1, 1))\n",
    " \n",
    "    x = normalizer.fit_transform(data_input.values)\n",
    "    y = normalizer.transform(data_output.values)\n",
    "    \n",
    "    X_train, X_test, y_train, y_test = train_test_split(x, y, test_size=0.1, \n",
    "                                                    random_state=42)\n",
    "    \n",
    "    model = MultiOutputRegressor(XGBRegressor(max_depth=3, n_estimators=100, n_jobs=3,\n",
    "                           objective='reg:squarederror',\n",
    "                           random_state=42, learning_rate=0.05))\n",
    "  \n",
    "    \n",
    "    model.fit(X_train, y_train)\n",
    "    y_pred = model.predict(X_test) # Predictions\n",
    "    y_true = y_test\n",
    "    R_squared = r2_score(y_true,y_pred,multioutput=\"variance_weighted\")\n",
    "    MSE = mse(y_true, y_pred)\n",
    "    RMSE = np.sqrt(MSE)\n",
    "    print(\"\\nRMSE: \", np.round(RMSE, 2))\n",
    "    print()\n",
    "    print(\"R-Squared: \", np.round(R_squared, 2))\n",
    "    return [model, normalizer]"
   ]
  },
  {
   "cell_type": "code",
   "execution_count": 260,
   "metadata": {},
   "outputs": [],
   "source": [
    "def get_the_best_model(input,output):\n",
    "    data_input = get_data(input)\n",
    "    data_output = get_data(output)\n",
    "    \n",
    "    normalizer = MinMaxScaler(feature_range = (-1, 1))\n",
    "    \n",
    "    print(\"x-shape: \", data_input.shape)\n",
    "    print(\"y-shape: \", data_output.shape)\n",
    "    \n",
    "    data = pd.concat([data_input,data_output],axis=1)\n",
    "    \n",
    "    len_in = len(data_input.columns)\n",
    "    len_out = len(data_output.columns)\n",
    "    \n",
    "    data = normalizer.fit_transform(data.values)\n",
    "    \n",
    "    x = data[:,0:len_in]\n",
    "    y = data[:,len_in:len_in+len_out]\n",
    "\n",
    "\n",
    "    \n",
    "    X_train, X_test, y_train, y_test = train_test_split(x, y, test_size=0.2, \n",
    "                                                    random_state=42)\n",
    "    y_test_predict = dict()\n",
    "    y_mse = dict()\n",
    "\n",
    "    the_best ={\"RMSE\":10, \"MSE\": 10, \"MAE\": 10, \"R_squared\": 0, 'model':dict() }\n",
    "\n",
    "    for name, estimator in MODELS.items():\n",
    "        print(\"Model name: \", name)\n",
    "        try:\n",
    "            estimator.fit(X_train, y_train)                    \n",
    "        except:\n",
    "            continue\n",
    "        y_test_predict[name] = estimator.predict(X_test) \n",
    "\n",
    "        # Metrics\n",
    "        y_mse[name] = mean_squared_error(y_test, estimator.predict(X_test))\n",
    "        y_true = y_test \n",
    "\n",
    "        cv = RepeatedKFold(n_splits=10, n_repeats=3, random_state=42)\n",
    "        n_scores = cross_val_score(estimator, x, y, scoring='neg_mean_absolute_error', cv=cv, n_jobs=3)\n",
    "        n_scores = absolute(n_scores)\n",
    "\n",
    "        MSE = mse(y_true, y_test_predict[name])\n",
    "        RMSE = np.sqrt(MSE)\n",
    "        R_squared = r2_score(y_true, y_test_predict[name],multioutput=\"variance_weighted\")\n",
    "        MAE = mean(n_scores)\n",
    "        print(\"RMSE: \", np.round(RMSE, 3))\n",
    "        print(\"MSE:\" , np.round(y_mse[name],3))\n",
    "        print(\"R-Squared: \", np.round(R_squared, 3))\n",
    "        print(f\"MAE: {np.round(MAE,3)} ({np.round(std(n_scores),3)})\")\n",
    "        print()\n",
    "\n",
    "        if(RMSE < the_best.get('RMSE') and MSE<the_best.get('MSE') and ( (1-R_squared)>0 and R_squared> the_best.get('R_squared') ) ):\n",
    "            print(\"New best->\", name) \n",
    "            the_best['RMSE'] = RMSE\n",
    "            the_best['MSE'] = MSE\n",
    "            the_best['R_squared']= R_squared\n",
    "            the_best['model']={'name':name, 'estimator': estimator}\n",
    "\n",
    "    print('The best model',the_best.get('model').get('name'))\n",
    "    \n",
    "    return [the_best.get('model').get('estimator'), normalizer]"
   ]
  },
  {
   "cell_type": "code",
   "execution_count": 261,
   "metadata": {},
   "outputs": [],
   "source": [
    "def save(nome, model, normalizer):\n",
    "    with open(f'models/normalizer_{nome}.pkl','wb') as f:\n",
    "        pickle.dump(normalizer,f)\n",
    "    with open(f'models/model_{nome}.pkl','wb') as f:\n",
    "        pickle.dump(model,f)\n",
    "    print('salvo')"
   ]
  },
  {
   "cell_type": "markdown",
   "metadata": {},
   "source": [
    "## Agricultura e desenvolvimento rural"
   ]
  },
  {
   "cell_type": "markdown",
   "metadata": {},
   "source": [
    "## Inputs"
   ]
  },
  {
   "cell_type": "code",
   "execution_count": 262,
   "metadata": {},
   "outputs": [],
   "source": [
    "inputs_agricultura= ['NV.AGR.TOTL.CD']\n",
    "df_inputs_agricultura = read_data(inputs_agricultura)\n",
    "df_inputs_agricultura.fillna(df_inputs_agricultura.mean(), inplace=True)\n"
   ]
  },
  {
   "cell_type": "markdown",
   "metadata": {},
   "source": [
    "## Outputs"
   ]
  },
  {
   "cell_type": "code",
   "execution_count": 263,
   "metadata": {},
   "outputs": [],
   "source": [
    "outputs_agricultura = ['SL.AGR.EMPL.ZS','SP.RUR.TOTL.ZS','AG.PRD.FOOD.XD']\n",
    "df_outputs_agricultura = read_data(outputs_agricultura)\n",
    "df_outputs_agricultura.fillna(df_outputs_agricultura.mean(), inplace=True)\n",
    "df_outputs_agricultura=df_outputs_agricultura.groupby(level=0).sum()"
   ]
  },
  {
   "cell_type": "code",
   "execution_count": 264,
   "metadata": {},
   "outputs": [
    {
     "name": "stdout",
     "output_type": "stream",
     "text": [
      "x-shape:  (570, 1)\n",
      "y-shape:  (570, 1)\n",
      "Model name:  LassoLars\n",
      "RMSE:  0.349\n",
      "MSE: 0.122\n",
      "R-Squared:  -0.007\n",
      "MAE: 0.238 (0.028)\n",
      "\n",
      "Model name:  Linear regression\n",
      "RMSE:  0.318\n",
      "MSE: 0.101\n",
      "R-Squared:  0.165\n",
      "MAE: 0.219 (0.029)\n",
      "\n",
      "New best-> Linear regression\n",
      "Model name:  Ridge\n",
      "RMSE:  0.319\n",
      "MSE: 0.102\n",
      "R-Squared:  0.161\n",
      "MAE: 0.219 (0.029)\n",
      "\n",
      "Model name:  Lasso\n",
      "RMSE:  0.349\n",
      "MSE: 0.122\n",
      "R-Squared:  -0.007\n",
      "MAE: 0.238 (0.028)\n",
      "\n",
      "Model name:  ElasticNet\n",
      "RMSE:  0.349\n",
      "MSE: 0.122\n",
      "R-Squared:  -0.007\n",
      "MAE: 0.238 (0.028)\n",
      "\n",
      "Model name:  RandomForestRegressor\n",
      "RMSE:  0.27\n",
      "MSE: 0.073\n",
      "R-Squared:  0.399\n",
      "MAE: 0.204 (0.026)\n",
      "\n",
      "New best-> RandomForestRegressor\n",
      "Model name:  Decision Tree Regressor\n",
      "RMSE:  0.258\n",
      "MSE: 0.067\n",
      "R-Squared:  0.45\n",
      "MAE: 0.214 (0.029)\n",
      "\n",
      "New best-> Decision Tree Regressor\n",
      "Model name:  MultiO/P GBR\n",
      "RMSE:  0.311\n",
      "MSE: 0.097\n",
      "R-Squared:  0.201\n",
      "MAE: 0.218 (0.026)\n",
      "\n",
      "Model name:  MultiO/P AdaB\n",
      "RMSE:  0.289\n",
      "MSE: 0.083\n",
      "R-Squared:  0.313\n",
      "MAE: 0.211 (0.025)\n",
      "\n",
      "Model name:  XGBRegressor\n",
      "RMSE:  0.276\n",
      "MSE: 0.076\n",
      "R-Squared:  0.371\n",
      "MAE: 0.204 (0.027)\n",
      "\n",
      "Model name:  K-nn\n",
      "RMSE:  0.275\n",
      "MSE: 0.076\n",
      "R-Squared:  0.375\n",
      "MAE: 0.216 (0.027)\n",
      "\n",
      "Model name:  LinearRegression\n",
      "RMSE:  0.318\n",
      "MSE: 0.101\n",
      "R-Squared:  0.165\n",
      "MAE: 0.219 (0.029)\n",
      "\n",
      "The best model Decision Tree Regressor\n"
     ]
    }
   ],
   "source": [
    "model_agricultura, normalizer_agricultura =  get_the_best_model(df_inputs_agricultura,df_outputs_agricultura)"
   ]
  },
  {
   "cell_type": "code",
   "execution_count": 265,
   "metadata": {},
   "outputs": [
    {
     "name": "stdout",
     "output_type": "stream",
     "text": [
      "salvo\n"
     ]
    }
   ],
   "source": [
    "save('agricultura',model_agricultura,normalizer_agricultura)"
   ]
  },
  {
   "cell_type": "markdown",
   "metadata": {},
   "source": [
    "## Educação"
   ]
  },
  {
   "cell_type": "markdown",
   "metadata": {},
   "source": [
    "## Inputs"
   ]
  },
  {
   "cell_type": "code",
   "execution_count": 266,
   "metadata": {},
   "outputs": [],
   "source": [
    "inputs_educacao=[\"SE.XPD.PRIM.ZS\", \"SE.XPD.SECO.ZS\", \"SE.XPD.TERT.ZS\", \"SE.XPD.TOTL.GB.ZS\"]\n",
    "df_inputs_educacao = read_data(inputs_educacao)\n",
    "df_inputs_educacao.fillna(df_inputs_educacao.mean(), inplace=True)"
   ]
  },
  {
   "cell_type": "markdown",
   "metadata": {},
   "source": [
    "## Outputs"
   ]
  },
  {
   "cell_type": "code",
   "execution_count": 13,
   "metadata": {},
   "outputs": [],
   "source": [
    "outputs_educacao = [\"SE.ADT.LITR.ZS\",\"SE.ADT.1524.LT.ZS\",\"SE.PRM.CMPT.ZS\", 'SE.SEC.CMPT.LO.ZS','SE.SEC.UNER.LO.ZS','SE.PRM.UNER.ZS']\n",
    "df_outputs_educacao = read_data(outputs_educacao)\n",
    "df_outputs_educacao.fillna(df_outputs_educacao.mean(), inplace=True)"
   ]
  },
  {
   "cell_type": "markdown",
   "metadata": {},
   "source": [
    "## Outputs Negative"
   ]
  },
  {
   "cell_type": "code",
   "execution_count": 14,
   "metadata": {},
   "outputs": [],
   "source": [
    "ouputs_negative_educacao = ['SE.SEC.CMPT.LO.ZS','SE.SEC.UNER.LO.ZS','SE.PRM.UNER.ZS']\n",
    "# df_ouputs_negative_educacao = read_data(ouputs_negative_educacao)\n",
    "# df_ouputs_negative_educacao.fillna(df_ouputs_negative_educacao.mean(), inplace=True)\n",
    "# df_ouputs_negative_educacao = df_ouputs_negative_educacao * -1\n",
    "# pd.concat([df_outputs_educacao, df_ouputs_negative_educacao])"
   ]
  },
  {
   "cell_type": "code",
   "execution_count": 15,
   "metadata": {},
   "outputs": [
    {
     "data": {
      "text/html": [
       "<div>\n",
       "<style scoped>\n",
       "    .dataframe tbody tr th:only-of-type {\n",
       "        vertical-align: middle;\n",
       "    }\n",
       "\n",
       "    .dataframe tbody tr th {\n",
       "        vertical-align: top;\n",
       "    }\n",
       "\n",
       "    .dataframe thead th {\n",
       "        text-align: right;\n",
       "    }\n",
       "</style>\n",
       "<table border=\"1\" class=\"dataframe\">\n",
       "  <thead>\n",
       "    <tr style=\"text-align: right;\">\n",
       "      <th></th>\n",
       "      <th></th>\n",
       "      <th>YR1990</th>\n",
       "      <th>YR1991</th>\n",
       "      <th>YR1992</th>\n",
       "      <th>YR1993</th>\n",
       "      <th>YR1994</th>\n",
       "      <th>YR1995</th>\n",
       "      <th>YR1996</th>\n",
       "      <th>YR1997</th>\n",
       "      <th>YR1998</th>\n",
       "      <th>YR1999</th>\n",
       "      <th>...</th>\n",
       "      <th>YR2010</th>\n",
       "      <th>YR2011</th>\n",
       "      <th>YR2012</th>\n",
       "      <th>YR2013</th>\n",
       "      <th>YR2014</th>\n",
       "      <th>YR2015</th>\n",
       "      <th>YR2016</th>\n",
       "      <th>YR2017</th>\n",
       "      <th>YR2018</th>\n",
       "      <th>YR2019</th>\n",
       "    </tr>\n",
       "    <tr>\n",
       "      <th>economy</th>\n",
       "      <th>series</th>\n",
       "      <th></th>\n",
       "      <th></th>\n",
       "      <th></th>\n",
       "      <th></th>\n",
       "      <th></th>\n",
       "      <th></th>\n",
       "      <th></th>\n",
       "      <th></th>\n",
       "      <th></th>\n",
       "      <th></th>\n",
       "      <th></th>\n",
       "      <th></th>\n",
       "      <th></th>\n",
       "      <th></th>\n",
       "      <th></th>\n",
       "      <th></th>\n",
       "      <th></th>\n",
       "      <th></th>\n",
       "      <th></th>\n",
       "      <th></th>\n",
       "      <th></th>\n",
       "    </tr>\n",
       "  </thead>\n",
       "  <tbody>\n",
       "    <tr>\n",
       "      <th rowspan=\"5\" valign=\"top\">ARG</th>\n",
       "      <th>SE.ADT.1524.LT.ZS</th>\n",
       "      <td>57.697009</td>\n",
       "      <td>98.304642</td>\n",
       "      <td>52.413408</td>\n",
       "      <td>49.270402</td>\n",
       "      <td>49.455680</td>\n",
       "      <td>46.976121</td>\n",
       "      <td>46.996034</td>\n",
       "      <td>48.144630</td>\n",
       "      <td>35.856585</td>\n",
       "      <td>41.947214</td>\n",
       "      <td>...</td>\n",
       "      <td>99.298637</td>\n",
       "      <td>99.628242</td>\n",
       "      <td>99.375870</td>\n",
       "      <td>99.551323</td>\n",
       "      <td>99.296707</td>\n",
       "      <td>99.559700</td>\n",
       "      <td>99.502708</td>\n",
       "      <td>52.101998</td>\n",
       "      <td>99.505524</td>\n",
       "      <td>50.533718</td>\n",
       "    </tr>\n",
       "    <tr>\n",
       "      <th>SE.ADT.LITR.ZS</th>\n",
       "      <td>57.697009</td>\n",
       "      <td>96.040718</td>\n",
       "      <td>52.413408</td>\n",
       "      <td>49.270402</td>\n",
       "      <td>49.455680</td>\n",
       "      <td>46.976121</td>\n",
       "      <td>46.996034</td>\n",
       "      <td>48.144630</td>\n",
       "      <td>35.856585</td>\n",
       "      <td>41.947214</td>\n",
       "      <td>...</td>\n",
       "      <td>98.954971</td>\n",
       "      <td>99.108330</td>\n",
       "      <td>99.105232</td>\n",
       "      <td>99.121948</td>\n",
       "      <td>98.993889</td>\n",
       "      <td>99.179962</td>\n",
       "      <td>99.125008</td>\n",
       "      <td>52.101998</td>\n",
       "      <td>99.003868</td>\n",
       "      <td>50.533718</td>\n",
       "    </tr>\n",
       "    <tr>\n",
       "      <th>SE.PRM.CMPT.ZS</th>\n",
       "      <td>57.697009</td>\n",
       "      <td>50.125052</td>\n",
       "      <td>52.413408</td>\n",
       "      <td>49.270402</td>\n",
       "      <td>98.577599</td>\n",
       "      <td>46.976121</td>\n",
       "      <td>92.963257</td>\n",
       "      <td>91.528763</td>\n",
       "      <td>99.151718</td>\n",
       "      <td>97.202042</td>\n",
       "      <td>...</td>\n",
       "      <td>103.567413</td>\n",
       "      <td>103.887711</td>\n",
       "      <td>103.352249</td>\n",
       "      <td>101.645012</td>\n",
       "      <td>103.106438</td>\n",
       "      <td>102.973740</td>\n",
       "      <td>103.893570</td>\n",
       "      <td>99.962761</td>\n",
       "      <td>98.706253</td>\n",
       "      <td>98.547241</td>\n",
       "    </tr>\n",
       "    <tr>\n",
       "      <th>SE.PRM.UNER.ZS</th>\n",
       "      <td>57.697009</td>\n",
       "      <td>3.824100</td>\n",
       "      <td>52.413408</td>\n",
       "      <td>49.270402</td>\n",
       "      <td>49.455680</td>\n",
       "      <td>46.976121</td>\n",
       "      <td>46.996034</td>\n",
       "      <td>0.000000</td>\n",
       "      <td>0.265700</td>\n",
       "      <td>0.165470</td>\n",
       "      <td>...</td>\n",
       "      <td>0.603730</td>\n",
       "      <td>0.565900</td>\n",
       "      <td>0.571760</td>\n",
       "      <td>0.408090</td>\n",
       "      <td>0.098040</td>\n",
       "      <td>0.056300</td>\n",
       "      <td>0.452390</td>\n",
       "      <td>0.432690</td>\n",
       "      <td>0.403450</td>\n",
       "      <td>0.422470</td>\n",
       "    </tr>\n",
       "    <tr>\n",
       "      <th>SE.SEC.CMPT.LO.ZS</th>\n",
       "      <td>57.697009</td>\n",
       "      <td>50.125052</td>\n",
       "      <td>52.413408</td>\n",
       "      <td>49.270402</td>\n",
       "      <td>49.455680</td>\n",
       "      <td>46.976121</td>\n",
       "      <td>46.996034</td>\n",
       "      <td>48.144630</td>\n",
       "      <td>35.856585</td>\n",
       "      <td>80.332611</td>\n",
       "      <td>...</td>\n",
       "      <td>81.547379</td>\n",
       "      <td>85.269440</td>\n",
       "      <td>86.210251</td>\n",
       "      <td>88.456207</td>\n",
       "      <td>88.916321</td>\n",
       "      <td>90.115860</td>\n",
       "      <td>89.205307</td>\n",
       "      <td>89.817039</td>\n",
       "      <td>90.867340</td>\n",
       "      <td>93.539200</td>\n",
       "    </tr>\n",
       "    <tr>\n",
       "      <th>...</th>\n",
       "      <th>...</th>\n",
       "      <td>...</td>\n",
       "      <td>...</td>\n",
       "      <td>...</td>\n",
       "      <td>...</td>\n",
       "      <td>...</td>\n",
       "      <td>...</td>\n",
       "      <td>...</td>\n",
       "      <td>...</td>\n",
       "      <td>...</td>\n",
       "      <td>...</td>\n",
       "      <td>...</td>\n",
       "      <td>...</td>\n",
       "      <td>...</td>\n",
       "      <td>...</td>\n",
       "      <td>...</td>\n",
       "      <td>...</td>\n",
       "      <td>...</td>\n",
       "      <td>...</td>\n",
       "      <td>...</td>\n",
       "      <td>...</td>\n",
       "      <td>...</td>\n",
       "    </tr>\n",
       "    <tr>\n",
       "      <th rowspan=\"5\" valign=\"top\">ZAF</th>\n",
       "      <th>SE.ADT.LITR.ZS</th>\n",
       "      <td>57.697009</td>\n",
       "      <td>50.125052</td>\n",
       "      <td>52.413408</td>\n",
       "      <td>49.270402</td>\n",
       "      <td>49.455680</td>\n",
       "      <td>46.976121</td>\n",
       "      <td>82.402100</td>\n",
       "      <td>48.144630</td>\n",
       "      <td>35.856585</td>\n",
       "      <td>41.947214</td>\n",
       "      <td>...</td>\n",
       "      <td>92.877319</td>\n",
       "      <td>93.102142</td>\n",
       "      <td>93.729469</td>\n",
       "      <td>48.267920</td>\n",
       "      <td>94.139900</td>\n",
       "      <td>94.367920</td>\n",
       "      <td>50.200440</td>\n",
       "      <td>87.046669</td>\n",
       "      <td>55.320413</td>\n",
       "      <td>95.022972</td>\n",
       "    </tr>\n",
       "    <tr>\n",
       "      <th>SE.PRM.CMPT.ZS</th>\n",
       "      <td>57.697009</td>\n",
       "      <td>77.067719</td>\n",
       "      <td>52.413408</td>\n",
       "      <td>49.270402</td>\n",
       "      <td>49.455680</td>\n",
       "      <td>46.976121</td>\n",
       "      <td>46.996034</td>\n",
       "      <td>48.144630</td>\n",
       "      <td>84.870483</td>\n",
       "      <td>79.950081</td>\n",
       "      <td>...</td>\n",
       "      <td>57.337221</td>\n",
       "      <td>58.558475</td>\n",
       "      <td>49.989132</td>\n",
       "      <td>48.267920</td>\n",
       "      <td>53.484998</td>\n",
       "      <td>90.110489</td>\n",
       "      <td>87.255333</td>\n",
       "      <td>52.101998</td>\n",
       "      <td>90.344498</td>\n",
       "      <td>91.999489</td>\n",
       "    </tr>\n",
       "    <tr>\n",
       "      <th>SE.PRM.UNER.ZS</th>\n",
       "      <td>57.697009</td>\n",
       "      <td>12.885810</td>\n",
       "      <td>52.413408</td>\n",
       "      <td>49.270402</td>\n",
       "      <td>10.883730</td>\n",
       "      <td>10.261400</td>\n",
       "      <td>46.996034</td>\n",
       "      <td>48.144630</td>\n",
       "      <td>9.817430</td>\n",
       "      <td>8.657320</td>\n",
       "      <td>...</td>\n",
       "      <td>57.337221</td>\n",
       "      <td>58.558475</td>\n",
       "      <td>49.989132</td>\n",
       "      <td>48.267920</td>\n",
       "      <td>53.484998</td>\n",
       "      <td>4.354490</td>\n",
       "      <td>50.200440</td>\n",
       "      <td>7.550620</td>\n",
       "      <td>11.007960</td>\n",
       "      <td>10.787040</td>\n",
       "    </tr>\n",
       "    <tr>\n",
       "      <th>SE.SEC.CMPT.LO.ZS</th>\n",
       "      <td>57.697009</td>\n",
       "      <td>56.152618</td>\n",
       "      <td>52.413408</td>\n",
       "      <td>49.270402</td>\n",
       "      <td>49.455680</td>\n",
       "      <td>46.976121</td>\n",
       "      <td>46.996034</td>\n",
       "      <td>48.144630</td>\n",
       "      <td>35.856585</td>\n",
       "      <td>74.023102</td>\n",
       "      <td>...</td>\n",
       "      <td>57.337221</td>\n",
       "      <td>58.558475</td>\n",
       "      <td>49.989132</td>\n",
       "      <td>48.267920</td>\n",
       "      <td>53.484998</td>\n",
       "      <td>52.729689</td>\n",
       "      <td>80.768852</td>\n",
       "      <td>52.101998</td>\n",
       "      <td>80.033234</td>\n",
       "      <td>80.372330</td>\n",
       "    </tr>\n",
       "    <tr>\n",
       "      <th>SE.SEC.UNER.LO.ZS</th>\n",
       "      <td>57.697009</td>\n",
       "      <td>50.125052</td>\n",
       "      <td>52.413408</td>\n",
       "      <td>49.270402</td>\n",
       "      <td>13.375800</td>\n",
       "      <td>46.976121</td>\n",
       "      <td>46.996034</td>\n",
       "      <td>48.144630</td>\n",
       "      <td>35.856585</td>\n",
       "      <td>13.118210</td>\n",
       "      <td>...</td>\n",
       "      <td>57.337221</td>\n",
       "      <td>58.558475</td>\n",
       "      <td>49.989132</td>\n",
       "      <td>48.267920</td>\n",
       "      <td>53.484998</td>\n",
       "      <td>52.729689</td>\n",
       "      <td>50.200440</td>\n",
       "      <td>19.139099</td>\n",
       "      <td>14.363630</td>\n",
       "      <td>10.323950</td>\n",
       "    </tr>\n",
       "  </tbody>\n",
       "</table>\n",
       "<p>114 rows × 30 columns</p>\n",
       "</div>"
      ],
      "text/plain": [
       "                              YR1990     YR1991     YR1992     YR1993  \\\n",
       "economy series                                                          \n",
       "ARG     SE.ADT.1524.LT.ZS  57.697009  98.304642  52.413408  49.270402   \n",
       "        SE.ADT.LITR.ZS     57.697009  96.040718  52.413408  49.270402   \n",
       "        SE.PRM.CMPT.ZS     57.697009  50.125052  52.413408  49.270402   \n",
       "        SE.PRM.UNER.ZS     57.697009   3.824100  52.413408  49.270402   \n",
       "        SE.SEC.CMPT.LO.ZS  57.697009  50.125052  52.413408  49.270402   \n",
       "...                              ...        ...        ...        ...   \n",
       "ZAF     SE.ADT.LITR.ZS     57.697009  50.125052  52.413408  49.270402   \n",
       "        SE.PRM.CMPT.ZS     57.697009  77.067719  52.413408  49.270402   \n",
       "        SE.PRM.UNER.ZS     57.697009  12.885810  52.413408  49.270402   \n",
       "        SE.SEC.CMPT.LO.ZS  57.697009  56.152618  52.413408  49.270402   \n",
       "        SE.SEC.UNER.LO.ZS  57.697009  50.125052  52.413408  49.270402   \n",
       "\n",
       "                              YR1994     YR1995     YR1996     YR1997  \\\n",
       "economy series                                                          \n",
       "ARG     SE.ADT.1524.LT.ZS  49.455680  46.976121  46.996034  48.144630   \n",
       "        SE.ADT.LITR.ZS     49.455680  46.976121  46.996034  48.144630   \n",
       "        SE.PRM.CMPT.ZS     98.577599  46.976121  92.963257  91.528763   \n",
       "        SE.PRM.UNER.ZS     49.455680  46.976121  46.996034   0.000000   \n",
       "        SE.SEC.CMPT.LO.ZS  49.455680  46.976121  46.996034  48.144630   \n",
       "...                              ...        ...        ...        ...   \n",
       "ZAF     SE.ADT.LITR.ZS     49.455680  46.976121  82.402100  48.144630   \n",
       "        SE.PRM.CMPT.ZS     49.455680  46.976121  46.996034  48.144630   \n",
       "        SE.PRM.UNER.ZS     10.883730  10.261400  46.996034  48.144630   \n",
       "        SE.SEC.CMPT.LO.ZS  49.455680  46.976121  46.996034  48.144630   \n",
       "        SE.SEC.UNER.LO.ZS  13.375800  46.976121  46.996034  48.144630   \n",
       "\n",
       "                              YR1998     YR1999  ...      YR2010      YR2011  \\\n",
       "economy series                                   ...                           \n",
       "ARG     SE.ADT.1524.LT.ZS  35.856585  41.947214  ...   99.298637   99.628242   \n",
       "        SE.ADT.LITR.ZS     35.856585  41.947214  ...   98.954971   99.108330   \n",
       "        SE.PRM.CMPT.ZS     99.151718  97.202042  ...  103.567413  103.887711   \n",
       "        SE.PRM.UNER.ZS      0.265700   0.165470  ...    0.603730    0.565900   \n",
       "        SE.SEC.CMPT.LO.ZS  35.856585  80.332611  ...   81.547379   85.269440   \n",
       "...                              ...        ...  ...         ...         ...   \n",
       "ZAF     SE.ADT.LITR.ZS     35.856585  41.947214  ...   92.877319   93.102142   \n",
       "        SE.PRM.CMPT.ZS     84.870483  79.950081  ...   57.337221   58.558475   \n",
       "        SE.PRM.UNER.ZS      9.817430   8.657320  ...   57.337221   58.558475   \n",
       "        SE.SEC.CMPT.LO.ZS  35.856585  74.023102  ...   57.337221   58.558475   \n",
       "        SE.SEC.UNER.LO.ZS  35.856585  13.118210  ...   57.337221   58.558475   \n",
       "\n",
       "                               YR2012      YR2013      YR2014      YR2015  \\\n",
       "economy series                                                              \n",
       "ARG     SE.ADT.1524.LT.ZS   99.375870   99.551323   99.296707   99.559700   \n",
       "        SE.ADT.LITR.ZS      99.105232   99.121948   98.993889   99.179962   \n",
       "        SE.PRM.CMPT.ZS     103.352249  101.645012  103.106438  102.973740   \n",
       "        SE.PRM.UNER.ZS       0.571760    0.408090    0.098040    0.056300   \n",
       "        SE.SEC.CMPT.LO.ZS   86.210251   88.456207   88.916321   90.115860   \n",
       "...                               ...         ...         ...         ...   \n",
       "ZAF     SE.ADT.LITR.ZS      93.729469   48.267920   94.139900   94.367920   \n",
       "        SE.PRM.CMPT.ZS      49.989132   48.267920   53.484998   90.110489   \n",
       "        SE.PRM.UNER.ZS      49.989132   48.267920   53.484998    4.354490   \n",
       "        SE.SEC.CMPT.LO.ZS   49.989132   48.267920   53.484998   52.729689   \n",
       "        SE.SEC.UNER.LO.ZS   49.989132   48.267920   53.484998   52.729689   \n",
       "\n",
       "                               YR2016     YR2017     YR2018     YR2019  \n",
       "economy series                                                          \n",
       "ARG     SE.ADT.1524.LT.ZS   99.502708  52.101998  99.505524  50.533718  \n",
       "        SE.ADT.LITR.ZS      99.125008  52.101998  99.003868  50.533718  \n",
       "        SE.PRM.CMPT.ZS     103.893570  99.962761  98.706253  98.547241  \n",
       "        SE.PRM.UNER.ZS       0.452390   0.432690   0.403450   0.422470  \n",
       "        SE.SEC.CMPT.LO.ZS   89.205307  89.817039  90.867340  93.539200  \n",
       "...                               ...        ...        ...        ...  \n",
       "ZAF     SE.ADT.LITR.ZS      50.200440  87.046669  55.320413  95.022972  \n",
       "        SE.PRM.CMPT.ZS      87.255333  52.101998  90.344498  91.999489  \n",
       "        SE.PRM.UNER.ZS      50.200440   7.550620  11.007960  10.787040  \n",
       "        SE.SEC.CMPT.LO.ZS   80.768852  52.101998  80.033234  80.372330  \n",
       "        SE.SEC.UNER.LO.ZS   50.200440  19.139099  14.363630  10.323950  \n",
       "\n",
       "[114 rows x 30 columns]"
      ]
     },
     "execution_count": 15,
     "metadata": {},
     "output_type": "execute_result"
    }
   ],
   "source": [
    "df_outputs_educacao"
   ]
  },
  {
   "cell_type": "code",
   "execution_count": 16,
   "metadata": {},
   "outputs": [],
   "source": [
    "def to_negative(row):\n",
    "    print(row.index[0][1])\n",
    "    if row.index[0][1] in ouputs_negative_educacao:\n",
    "        print(row.index[0][1])\n",
    "        row = row * -1\n",
    "    return row"
   ]
  },
  {
   "cell_type": "code",
   "execution_count": 17,
   "metadata": {},
   "outputs": [
    {
     "data": {
      "text/plain": [
       "['SE.SEC.CMPT.LO.ZS', 'SE.SEC.UNER.LO.ZS', 'SE.PRM.UNER.ZS']"
      ]
     },
     "execution_count": 17,
     "metadata": {},
     "output_type": "execute_result"
    }
   ],
   "source": [
    "ouputs_negative_educacao"
   ]
  },
  {
   "cell_type": "code",
   "execution_count": 18,
   "metadata": {},
   "outputs": [],
   "source": [
    "# df_outputs_educacao.apply(to_negative, axis=0)"
   ]
  },
  {
   "cell_type": "code",
   "execution_count": 19,
   "metadata": {},
   "outputs": [],
   "source": [
    "# df_outputs_educacao.min()"
   ]
  },
  {
   "cell_type": "code",
   "execution_count": 21,
   "metadata": {},
   "outputs": [],
   "source": [
    "# df_ouputs_negative_educacao.fillna(df_ouputs_negative_educacao.mean(), inplace=True)\n",
    "# df_ouputs_negative_educacao = df_ouputs_negative_educacao.groupby(level=0).sum()"
   ]
  },
  {
   "cell_type": "markdown",
   "metadata": {},
   "source": [
    "## Mudanças climáticas e meio ambiente"
   ]
  },
  {
   "cell_type": "markdown",
   "metadata": {},
   "source": [
    "## Inputs"
   ]
  },
  {
   "cell_type": "code",
   "execution_count": 267,
   "metadata": {},
   "outputs": [],
   "source": [
    "inputs_ambiente = ['EN.ATM.METH.AG.ZS','EN.ATM.METH.AG.KT.CE','EN.ATM.NOXE.AG.ZS','EN.ATM.CO2E.KD.GD']\n",
    "df_inputs_ambiente = read_data(inputs_ambiente)\n",
    "df_inputs_ambiente.fillna(df_inputs_ambiente.mean(), inplace=True)"
   ]
  },
  {
   "cell_type": "markdown",
   "metadata": {},
   "source": [
    "## Ouputs"
   ]
  },
  {
   "cell_type": "code",
   "execution_count": 268,
   "metadata": {},
   "outputs": [],
   "source": [
    "outputs_ambiente = [\"EG.ELC.ACCS.ZS\",\"EG.ELC.HYRO.ZS\",\"EG.ELC.RNWX.ZS\"]\n",
    "df_outputs_ambiente = read_data(outputs_ambiente)\n",
    "df_outputs_ambiente.fillna(df_outputs_ambiente.mean(), inplace=True)\n",
    "df_outputs_ambiente=df_outputs_ambiente.groupby(level=0).sum()"
   ]
  },
  {
   "cell_type": "markdown",
   "metadata": {},
   "source": [
    "## Model"
   ]
  },
  {
   "cell_type": "code",
   "execution_count": 269,
   "metadata": {},
   "outputs": [],
   "source": [
    "df_outputs_ambiente=df_outputs_ambiente*100"
   ]
  },
  {
   "cell_type": "code",
   "execution_count": 270,
   "metadata": {},
   "outputs": [
    {
     "name": "stdout",
     "output_type": "stream",
     "text": [
      "x-shape:  (570, 4)\n",
      "y-shape:  (570, 1)\n",
      "Model name:  LassoLars\n",
      "Model name:  Linear regression\n",
      "Model name:  Ridge\n",
      "Model name:  Lasso\n",
      "Model name:  ElasticNet\n",
      "Model name:  RandomForestRegressor\n",
      "Model name:  Decision Tree Regressor\n",
      "Model name:  MultiO/P GBR\n",
      "Model name:  MultiO/P AdaB\n",
      "Model name:  XGBRegressor\n",
      "RMSE:  0.133\n",
      "MSE: 0.018\n",
      "R-Squared:  0.934\n",
      "MAE: 0.111 (0.014)\n",
      "\n",
      "New best-> XGBRegressor\n",
      "Model name:  K-nn\n",
      "Model name:  LinearRegression\n",
      "The best model XGBRegressor\n"
     ]
    }
   ],
   "source": [
    "model_ambiente,normalizer_ambiente=get_the_best_model(df_inputs_ambiente, df_outputs_ambiente)"
   ]
  },
  {
   "cell_type": "code",
   "execution_count": 271,
   "metadata": {},
   "outputs": [
    {
     "name": "stdout",
     "output_type": "stream",
     "text": [
      "salvo\n"
     ]
    }
   ],
   "source": [
    "save('ambiente',model_ambiente,normalizer_ambiente)"
   ]
  },
  {
   "cell_type": "markdown",
   "metadata": {},
   "source": [
    "## Saúde"
   ]
  },
  {
   "cell_type": "code",
   "execution_count": 272,
   "metadata": {},
   "outputs": [],
   "source": [
    "inputs_saude = ['SH.XPD.CHEX.GD.ZS','SH.XPD.GHED.CH.ZS']\n",
    "df_inputs_saude = read_data(inputs_saude)\n",
    "df_inputs_saude.fillna(df_inputs_saude.mean(), inplace=True)\n"
   ]
  },
  {
   "cell_type": "markdown",
   "metadata": {},
   "source": [
    "## Outputs"
   ]
  },
  {
   "cell_type": "code",
   "execution_count": 273,
   "metadata": {},
   "outputs": [],
   "source": [
    "outputs_saude = ['SH.STA.BASS.ZS','SH.MED.BEDS.ZS','SH.MED.NUMW.P3','SH.MED.PHYS.ZS']\n",
    "df_outputs_saude = read_data(outputs_saude)\n",
    "df_outputs_saude.fillna(df_outputs_saude.mean(), inplace=True)\n",
    "df_outputs_saude=df_outputs_saude.groupby(level=0).sum()"
   ]
  },
  {
   "cell_type": "markdown",
   "metadata": {},
   "source": [
    "## Model"
   ]
  },
  {
   "cell_type": "code",
   "execution_count": 274,
   "metadata": {},
   "outputs": [],
   "source": [
    "# df_outputs_saude[df_outputs_saude.isnull().all(axis=1)]"
   ]
  },
  {
   "cell_type": "code",
   "execution_count": 275,
   "metadata": {},
   "outputs": [
    {
     "name": "stdout",
     "output_type": "stream",
     "text": [
      "x-shape:  (570, 2)\n",
      "y-shape:  (570, 1)\n",
      "Model name:  LassoLars\n",
      "Model name:  Linear regression\n",
      "Model name:  Ridge\n",
      "Model name:  Lasso\n",
      "Model name:  ElasticNet\n",
      "Model name:  RandomForestRegressor\n",
      "Model name:  Decision Tree Regressor\n",
      "Model name:  MultiO/P GBR\n",
      "Model name:  MultiO/P AdaB\n",
      "Model name:  XGBRegressor\n",
      "RMSE:  0.355\n",
      "MSE: 0.126\n",
      "R-Squared:  0.245\n",
      "MAE: 0.206 (0.03)\n",
      "\n",
      "New best-> XGBRegressor\n",
      "Model name:  K-nn\n",
      "Model name:  LinearRegression\n",
      "The best model XGBRegressor\n"
     ]
    }
   ],
   "source": [
    "model_saude,normalizer_saude=get_the_best_model(df_inputs_saude, df_outputs_saude)"
   ]
  },
  {
   "cell_type": "code",
   "execution_count": 276,
   "metadata": {},
   "outputs": [
    {
     "name": "stdout",
     "output_type": "stream",
     "text": [
      "salvo\n"
     ]
    }
   ],
   "source": [
    "\n",
    "save('saude',model_saude,normalizer_saude)"
   ]
  },
  {
   "cell_type": "markdown",
   "metadata": {},
   "source": [
    "## Infraestreutura, Ciência e Tecnologia"
   ]
  },
  {
   "cell_type": "markdown",
   "metadata": {},
   "source": [
    "## Input"
   ]
  },
  {
   "cell_type": "code",
   "execution_count": 277,
   "metadata": {},
   "outputs": [],
   "source": [
    "inputs_ciencia = ['GB.XPD.RSDV.GD.ZS']\n",
    "df_inputs_ciencia = read_data(inputs_ciencia)\n",
    "df_inputs_ciencia.fillna(df_inputs_ciencia.mean(), inplace=True)"
   ]
  },
  {
   "cell_type": "markdown",
   "metadata": {},
   "source": [
    "## Output"
   ]
  },
  {
   "cell_type": "code",
   "execution_count": 278,
   "metadata": {},
   "outputs": [],
   "source": [
    "outputs_ciencia =['IT.NET.SECR.P6','EP.PMP.SGAS.CD','IP.JRN.ARTC.SC','IP.IDS.NRCT','IP.IDS.RSCT','IS.RRS.GOOD.MT.K6']\n",
    "df_outputs_ciencia = read_data(outputs_ciencia)\n",
    "df_outputs_ciencia.fillna(df_outputs_ciencia.mean(), inplace=True)\n",
    "df_outputs_ciencia=df_outputs_ciencia.groupby(level=0).sum()"
   ]
  },
  {
   "cell_type": "markdown",
   "metadata": {},
   "source": [
    "## Model"
   ]
  },
  {
   "cell_type": "code",
   "execution_count": 279,
   "metadata": {},
   "outputs": [
    {
     "name": "stdout",
     "output_type": "stream",
     "text": [
      "x-shape:  (570, 1)\n",
      "y-shape:  (570, 1)\n",
      "Model name:  LassoLars\n",
      "Model name:  Linear regression\n",
      "Model name:  Ridge\n",
      "Model name:  Lasso\n",
      "Model name:  ElasticNet\n",
      "Model name:  RandomForestRegressor\n",
      "Model name:  Decision Tree Regressor\n",
      "Model name:  MultiO/P GBR\n",
      "Model name:  MultiO/P AdaB\n",
      "Model name:  XGBRegressor\n",
      "RMSE:  0.284\n",
      "MSE: 0.081\n",
      "R-Squared:  0.343\n",
      "MAE: 0.241 (0.041)\n",
      "\n",
      "New best-> XGBRegressor\n",
      "Model name:  K-nn\n",
      "Model name:  LinearRegression\n",
      "The best model XGBRegressor\n",
      "salvo\n"
     ]
    }
   ],
   "source": [
    "model_ciencia,normalizer_ciencia=get_the_best_model(df_inputs_ciencia, df_outputs_ciencia)\n",
    "save('ciencia',model_ciencia,normalizer_ciencia)"
   ]
  },
  {
   "cell_type": "markdown",
   "metadata": {},
   "source": [
    "## Desenvolvimento "
   ]
  },
  {
   "cell_type": "code",
   "execution_count": 35,
   "metadata": {},
   "outputs": [],
   "source": [
    "inputs_desenvolvimento = ['SI.POV.GINI']\n",
    "df_inputs_desenvolvimento = read_data(inputs_desenvolvimento)\n",
    "df_inputs_desenvolvimento.fillna(df_inputs_desenvolvimento.mean(), inplace=True)"
   ]
  },
  {
   "cell_type": "code",
   "execution_count": 36,
   "metadata": {},
   "outputs": [],
   "source": [
    "outputs_desenvolvimento = ['SL.EMP.VULN.ZS','SL.UEM.TOTL.NE.ZS']\n",
    "df_outputs_desenvolvimento = read_data(outputs_desenvolvimento)\n",
    "df_outputs_desenvolvimento.fillna(df_outputs_desenvolvimento.mean(), inplace=True)"
   ]
  },
  {
   "cell_type": "code",
   "execution_count": null,
   "metadata": {},
   "outputs": [],
   "source": [
    "ouputs_negative_desenvolvimento = ['SI.DST.50MD']\n",
    "df_ouputs_negative_desenvolvimento = read_data(ouputs_negative_desenvolvimento)\n",
    "df_ouputs_negative_desenvolvimento.fillna(df_ouputs_negative_desenvolvimento.mean(), inplace=True)"
   ]
  },
  {
   "cell_type": "markdown",
   "metadata": {},
   "source": [
    "## Banco Central"
   ]
  },
  {
   "cell_type": "code",
   "execution_count": 280,
   "metadata": {},
   "outputs": [],
   "source": [
    "inputs_banco = ['FR.INR.DPST']"
   ]
  },
  {
   "cell_type": "code",
   "execution_count": 281,
   "metadata": {},
   "outputs": [],
   "source": [
    "df_inputs_banco= read_data(inputs_banco)\n",
    "df_inputs_banco.fillna(df_inputs_banco.mean(), inplace=True)"
   ]
  },
  {
   "cell_type": "code",
   "execution_count": 282,
   "metadata": {},
   "outputs": [],
   "source": [
    "outputs_banco = ['FM.LBL.BMNY.GD.ZS','FM.LBL.BMNY.ZG','FP.CPI.TOTL.ZG','NY.GDP.DEFL.KD.ZG.AD','PA.NUS.FCRF']\n",
    "df_outputs_banco = read_data(outputs_banco)\n",
    "df_outputs_banco.fillna(df_outputs_banco.mean(), inplace=True)\n",
    "df_outputs_banco=df_outputs_banco.groupby(level=0).sum()"
   ]
  },
  {
   "cell_type": "code",
   "execution_count": 283,
   "metadata": {},
   "outputs": [
    {
     "name": "stdout",
     "output_type": "stream",
     "text": [
      "x-shape:  (570, 1)\n",
      "y-shape:  (570, 1)\n",
      "Model name:  LassoLars\n",
      "RMSE:  0.259\n",
      "MSE: 0.067\n",
      "R-Squared:  -0.003\n",
      "MAE: 0.135 (0.036)\n",
      "\n",
      "Model name:  Linear regression\n",
      "RMSE:  0.251\n",
      "MSE: 0.063\n",
      "R-Squared:  0.059\n",
      "MAE: 0.13 (0.036)\n",
      "\n",
      "New best-> Linear regression\n",
      "Model name:  Ridge\n",
      "RMSE:  0.247\n",
      "MSE: 0.061\n",
      "R-Squared:  0.086\n",
      "MAE: 0.13 (0.036)\n",
      "\n",
      "New best-> Ridge\n",
      "Model name:  Lasso\n",
      "RMSE:  0.259\n",
      "MSE: 0.067\n",
      "R-Squared:  -0.003\n",
      "MAE: 0.135 (0.036)\n",
      "\n",
      "Model name:  ElasticNet\n",
      "RMSE:  0.259\n",
      "MSE: 0.067\n",
      "R-Squared:  -0.003\n",
      "MAE: 0.135 (0.036)\n",
      "\n",
      "Model name:  RandomForestRegressor\n",
      "RMSE:  0.229\n",
      "MSE: 0.053\n",
      "R-Squared:  0.21\n",
      "MAE: 0.126 (0.036)\n",
      "\n",
      "New best-> RandomForestRegressor\n",
      "Model name:  Decision Tree Regressor\n",
      "RMSE:  0.265\n",
      "MSE: 0.07\n",
      "R-Squared:  -0.055\n",
      "MAE: 0.13 (0.035)\n",
      "\n",
      "Model name:  MultiO/P GBR\n",
      "RMSE:  0.245\n",
      "MSE: 0.06\n",
      "R-Squared:  0.102\n",
      "MAE: 0.131 (0.036)\n",
      "\n",
      "Model name:  MultiO/P AdaB\n",
      "RMSE:  0.3\n",
      "MSE: 0.09\n",
      "R-Squared:  -0.35\n",
      "MAE: 0.179 (0.049)\n",
      "\n",
      "Model name:  XGBRegressor\n",
      "RMSE:  0.244\n",
      "MSE: 0.06\n",
      "R-Squared:  0.106\n",
      "MAE: 0.177 (0.033)\n",
      "\n",
      "Model name:  K-nn\n",
      "RMSE:  0.248\n",
      "MSE: 0.061\n",
      "R-Squared:  0.081\n",
      "MAE: 0.123 (0.039)\n",
      "\n",
      "Model name:  LinearRegression\n",
      "RMSE:  0.251\n",
      "MSE: 0.063\n",
      "R-Squared:  0.059\n",
      "MAE: 0.13 (0.036)\n",
      "\n",
      "The best model RandomForestRegressor\n",
      "salvo\n"
     ]
    }
   ],
   "source": [
    "model_banco,normalizer_banco=get_the_best_model(df_inputs_banco, df_outputs_banco)\n",
    "save('banco',model_banco,normalizer_banco)"
   ]
  },
  {
   "cell_type": "markdown",
   "metadata": {},
   "source": [
    "# Economia"
   ]
  },
  {
   "cell_type": "markdown",
   "metadata": {},
   "source": [
    "## Input"
   ]
  },
  {
   "cell_type": "code",
   "execution_count": 284,
   "metadata": {},
   "outputs": [],
   "source": [
    "inputs_economia =['NY.GDP.FCST.CD','NV.IND.TOTL.CD','NV.IND.MANF.CD','NV.SRV.TOTL.CD']\n",
    "df_inputs_economia = read_data(inputs_economia)\n",
    "df_inputs_economia.fillna(df_inputs_economia.mean(), inplace=True)"
   ]
  },
  {
   "cell_type": "markdown",
   "metadata": {},
   "source": [
    "## Output"
   ]
  },
  {
   "cell_type": "code",
   "execution_count": 285,
   "metadata": {},
   "outputs": [],
   "source": [
    "outputs_economia = ['NY.GDS.TOTL.CD','NE.RSB.GNFS.CD','NE.CON.TOTL.CD','IC.REG.STRT.BUS.DFRN']\n",
    "df_outputs_economia = read_data(outputs_economia)\n",
    "df_outputs_economia.fillna(df_outputs_economia.mean(), inplace=True)\n",
    "df_outputs_economia=df_outputs_economia.groupby(level=0).sum()\n"
   ]
  },
  {
   "cell_type": "markdown",
   "metadata": {},
   "source": [
    "## Model"
   ]
  },
  {
   "cell_type": "code",
   "execution_count": 286,
   "metadata": {},
   "outputs": [
    {
     "name": "stdout",
     "output_type": "stream",
     "text": [
      "x-shape:  (570, 4)\n",
      "y-shape:  (570, 1)\n",
      "Model name:  LassoLars\n",
      "RMSE:  0.238\n",
      "MSE: 0.057\n",
      "R-Squared:  -0.015\n",
      "MAE: 0.181 (0.03)\n",
      "\n",
      "Model name:  Linear regression\n",
      "RMSE:  0.062\n",
      "MSE: 0.004\n",
      "R-Squared:  0.931\n",
      "MAE: 0.023 (0.01)\n",
      "\n",
      "New best-> Linear regression\n",
      "Model name:  Ridge\n",
      "RMSE:  0.056\n",
      "MSE: 0.003\n",
      "R-Squared:  0.943\n",
      "MAE: 0.027 (0.008)\n",
      "\n",
      "New best-> Ridge\n",
      "Model name:  Lasso\n",
      "RMSE:  0.238\n",
      "MSE: 0.057\n",
      "R-Squared:  -0.015\n",
      "MAE: 0.181 (0.03)\n",
      "\n",
      "Model name:  ElasticNet\n",
      "RMSE:  0.238\n",
      "MSE: 0.057\n",
      "R-Squared:  -0.015\n",
      "MAE: 0.181 (0.03)\n",
      "\n",
      "Model name:  RandomForestRegressor\n",
      "RMSE:  0.025\n",
      "MSE: 0.001\n",
      "R-Squared:  0.989\n",
      "MAE: 0.02 (0.005)\n",
      "\n",
      "New best-> RandomForestRegressor\n",
      "Model name:  Decision Tree Regressor\n",
      "RMSE:  0.038\n",
      "MSE: 0.001\n",
      "R-Squared:  0.975\n",
      "MAE: 0.022 (0.006)\n",
      "\n",
      "Model name:  MultiO/P GBR\n",
      "RMSE:  0.146\n",
      "MSE: 0.021\n",
      "R-Squared:  0.619\n",
      "MAE: 0.112 (0.019)\n",
      "\n",
      "Model name:  MultiO/P AdaB\n",
      "RMSE:  0.046\n",
      "MSE: 0.002\n",
      "R-Squared:  0.963\n",
      "MAE: 0.04 (0.007)\n",
      "\n",
      "Model name:  XGBRegressor\n",
      "RMSE:  0.07\n",
      "MSE: 0.005\n",
      "R-Squared:  0.913\n",
      "MAE: 0.069 (0.002)\n",
      "\n",
      "Model name:  K-nn\n",
      "RMSE:  0.022\n",
      "MSE: 0.001\n",
      "R-Squared:  0.991\n",
      "MAE: 0.012 (0.006)\n",
      "\n",
      "New best-> K-nn\n",
      "Model name:  LinearRegression\n",
      "RMSE:  0.062\n",
      "MSE: 0.004\n",
      "R-Squared:  0.931\n",
      "MAE: 0.023 (0.01)\n",
      "\n",
      "The best model K-nn\n",
      "salvo\n"
     ]
    }
   ],
   "source": [
    "model_economia, normalizer_economia = get_the_best_model(df_inputs_economia, df_outputs_economia)\n",
    "save('economia', model_economia, normalizer_economia)"
   ]
  },
  {
   "cell_type": "markdown",
   "metadata": {},
   "source": [
    "## Trash"
   ]
  },
  {
   "cell_type": "code",
   "execution_count": 254,
   "metadata": {},
   "outputs": [],
   "source": [
    "sad = normalizer_economia.transform([[ -9.786788e+10,5.091778e+10,7.895158e+10,1.413524e+11,0]])\n",
    "x_teste_economia=[sad[0][:4]]"
   ]
  },
  {
   "cell_type": "code",
   "execution_count": 255,
   "metadata": {},
   "outputs": [],
   "source": [
    "result = model_economia.predict(x_teste_economia)\n",
    "result = [result[0][0],0,0,12]\n"
   ]
  },
  {
   "cell_type": "code",
   "execution_count": 256,
   "metadata": {},
   "outputs": [
    {
     "data": {
      "text/plain": [
       "array([[5.93120862e+09, 6.77800263e+01, 3.16899998e+01, 4.39895000e+02]])"
      ]
     },
     "execution_count": 256,
     "metadata": {},
     "output_type": "execute_result"
    }
   ],
   "source": [
    "normalizer_agricultura.inverse_transform([result])"
   ]
  },
  {
   "cell_type": "code",
   "execution_count": 97,
   "metadata": {},
   "outputs": [],
   "source": [
    "# df_inputs_economia"
   ]
  },
  {
   "cell_type": "code",
   "execution_count": null,
   "metadata": {},
   "outputs": [],
   "source": [
    "def get_data(data):\n",
    "    dict_data={}\n",
    "    for index, row in dict_input.items():\n",
    "        for index2, row2 in row.items():\n",
    "            if not dict_data.get(index2[1]):\n",
    "                dict_data[index2[1]]=[]\n",
    "            dict_data.get(index2[1]).append(row2)\n",
    "    return pd.DataFrame(dict_data)"
   ]
  },
  {
   "cell_type": "code",
   "execution_count": null,
   "metadata": {},
   "outputs": [],
   "source": [
    "df_inputs_agricultura"
   ]
  },
  {
   "cell_type": "code",
   "execution_count": null,
   "metadata": {},
   "outputs": [],
   "source": [
    "teste = {}\n",
    "for index, row in df_inputs_agricultura.items():\n",
    "    if len(row)>19:\n",
    "        for index2, row2 in row.items():\n",
    "            if not teste.get(index2[1]):\n",
    "                teste[index2[1]]=[]\n",
    "            teste.get(index2[1]).append(row2)\n",
    "    else:\n",
    "        for index2, row2 in row.items():\n",
    "            if not teste.get(\"coluna\"):\n",
    "                teste[\"coluna\"]=[]\n",
    "            teste.get(\"coluna\").append(row2)\n",
    "            \n",
    "#     if not teste.get(index[1]):\n",
    "#         teste[index[1]]=[]\n",
    "#     teste.get(index[1]).append({row[0]:row[1]})\n",
    "    \n",
    "z=pd.DataFrame(teste)\n",
    "z"
   ]
  },
  {
   "cell_type": "code",
   "execution_count": null,
   "metadata": {},
   "outputs": [],
   "source": [
    "teste = {}\n",
    "for index, row in df_inputs_economia.items():\n",
    "    for index2, row2 in row.items():\n",
    "        if not teste.get(index2[1]):\n",
    "            teste[index2[1]]=[]\n",
    "        teste.get(index2[1]).append(row2)\n",
    "#     if not teste.get(index[1]):\n",
    "#         teste[index[1]]=[]\n",
    "#     teste.get(index[1]).append({row[0]:row[1]})\n",
    "    \n",
    "w=pd.DataFrame(teste)"
   ]
  },
  {
   "cell_type": "code",
   "execution_count": null,
   "metadata": {},
   "outputs": [],
   "source": [
    "# df_outputs_economia[df_outputs_economia.isnull().all(axis=1)]"
   ]
  },
  {
   "cell_type": "code",
   "execution_count": null,
   "metadata": {},
   "outputs": [],
   "source": [
    "# df_outputs_economia.fillna(df_outputs_economia.mean(), inplace=True)\n",
    "# df_outputs_economia=df_outputs_economia.groupby(level=0).sum()"
   ]
  },
  {
   "cell_type": "code",
   "execution_count": null,
   "metadata": {},
   "outputs": [],
   "source": [
    "# df_outputs_economia.transpose().\n",
    "x = w.values\n",
    "y = z.values\n"
   ]
  },
  {
   "cell_type": "markdown",
   "metadata": {},
   "source": [
    "## MODELOS"
   ]
  },
  {
   "cell_type": "code",
   "execution_count": null,
   "metadata": {},
   "outputs": [],
   "source": [
    "from xgboost import XGBRegressor\n",
    "from sklearn.model_selection import train_test_split\n",
    "from sklearn.metrics import r2_score\n",
    "import numpy as np\n",
    "from sklearn.metrics import mean_squared_error as mse\n",
    "from yellowbrick.regressor import residuals_plot,ResidualsPlot\n",
    "from yellowbrick.regressor import prediction_error\n",
    "from sklearn.preprocessing import MinMaxScaler\n",
    "from sklearn.multioutput import MultiOutputRegressor\n",
    "import pickle\n"
   ]
  },
  {
   "cell_type": "code",
   "execution_count": null,
   "metadata": {},
   "outputs": [],
   "source": [
    "x = get_data(df_inputs_economia)\n",
    "y = get_data(df_outputs_economia)\n",
    "sc= MinMaxScaler(feature_range = (-1, 1))"
   ]
  },
  {
   "cell_type": "code",
   "execution_count": null,
   "metadata": {},
   "outputs": [],
   "source": [
    "x = sc.fit_transform(x)\n",
    "y = sc.fit_transform(y)"
   ]
  },
  {
   "cell_type": "code",
   "execution_count": null,
   "metadata": {},
   "outputs": [],
   "source": [
    "X_train, X_test, y_train, y_test = train_test_split(x, y, test_size=0.1, \n",
    "                                                    random_state=42)"
   ]
  },
  {
   "cell_type": "code",
   "execution_count": null,
   "metadata": {},
   "outputs": [],
   "source": [
    "print(x.shape)\n",
    "print(y.shape)"
   ]
  },
  {
   "cell_type": "code",
   "execution_count": null,
   "metadata": {},
   "outputs": [],
   "source": [
    "model=MultiOutputRegressor(LGBMRegressor())"
   ]
  },
  {
   "cell_type": "code",
   "execution_count": null,
   "metadata": {},
   "outputs": [],
   "source": [
    "# xgb_reg = MultiOutputRegressor(XGBRegressor(max_depth=3, n_estimators=100, n_jobs=3,\n",
    "#                            objective='reg:squarederror',\n",
    "#                            random_state=42, learning_rate=0.05))"
   ]
  },
  {
   "cell_type": "code",
   "execution_count": null,
   "metadata": {},
   "outputs": [],
   "source": [
    "model.fit(X_train, y_train)"
   ]
  },
  {
   "cell_type": "code",
   "execution_count": null,
   "metadata": {},
   "outputs": [],
   "source": [
    "y_pred = model.predict(X_test) # Predictions\n",
    "y_true = y_test # True values"
   ]
  },
  {
   "cell_type": "code",
   "execution_count": null,
   "metadata": {},
   "outputs": [],
   "source": [
    "MSE = mse(y_true, y_pred)\n",
    "RMSE = np.sqrt(MSE)"
   ]
  },
  {
   "cell_type": "code",
   "execution_count": null,
   "metadata": {},
   "outputs": [],
   "source": [
    "R_squared = r2_score(y_true, y_pred)"
   ]
  },
  {
   "cell_type": "code",
   "execution_count": null,
   "metadata": {},
   "outputs": [],
   "source": [
    "print(\"\\nRMSE: \", np.round(RMSE, 2))\n",
    "print()\n",
    "print(\"R-Squared: \", np.round(R_squared, 2))"
   ]
  },
  {
   "cell_type": "code",
   "execution_count": null,
   "metadata": {},
   "outputs": [],
   "source": [
    "# Making the Prediction Error Plot\n",
    "print(\"\\nPrediction Error Plot\")\n",
    "print(prediction_error(model, X_train, y_train, X_test, y_test))"
   ]
  },
  {
   "cell_type": "code",
   "execution_count": null,
   "metadata": {},
   "outputs": [],
   "source": [
    "# Making the Residuals Plot\n",
    "print(\"\\nResiduals Plot\")\n",
    "print(residuals_plot(model, X_train, y_train, X_test, y_test)) "
   ]
  },
  {
   "cell_type": "code",
   "execution_count": null,
   "metadata": {},
   "outputs": [],
   "source": [
    "model1=MultiOutputRegressor(LinearRegression())"
   ]
  },
  {
   "cell_type": "code",
   "execution_count": null,
   "metadata": {},
   "outputs": [],
   "source": [
    "model1.fit(X_train, y_train)"
   ]
  },
  {
   "cell_type": "code",
   "execution_count": null,
   "metadata": {},
   "outputs": [],
   "source": [
    "y_pred = model1.predict(X_test) # Predictions\n",
    "y_true = y_test # True values"
   ]
  },
  {
   "cell_type": "code",
   "execution_count": null,
   "metadata": {},
   "outputs": [],
   "source": [
    "y_true = y_test # True values\n",
    "MSE = mse(y_true, y_pred)\n",
    "RMSE = np.sqrt(MSE)\n",
    "R_squared = r2_score(y_true, y_pred,multioutput='variance_weighted')\n",
    "print(\"\\nRMSE: \", np.round(RMSE, 2))\n",
    "print()\n",
    "print(\"R-Squared: \", np.round(R_squared, 2))"
   ]
  },
  {
   "cell_type": "code",
   "execution_count": null,
   "metadata": {},
   "outputs": [],
   "source": [
    "print(\"\\nRMSE: \", np.round(RMSE, 2))\n",
    "print()\n",
    "print(\"R-Squared: \", np.round(R_squared, 2))"
   ]
  },
  {
   "cell_type": "code",
   "execution_count": null,
   "metadata": {},
   "outputs": [],
   "source": [
    "# Making the Prediction Error Plot\n",
    "print(\"\\nPrediction Error Plot\")\n",
    "print(prediction_error(model, X_train, y_train, X_test, y_test))"
   ]
  },
  {
   "cell_type": "code",
   "execution_count": null,
   "metadata": {},
   "outputs": [],
   "source": [
    "def save(nome, model, normalizer) \n",
    "    with open(f'models/normalizer_{nome}.pkl','wb') as f:\n",
    "        pickle.dump(normalizer,f)\n",
    "    with open(f'models/model_{nome}.pkl','wb') as f:\n",
    "        pickle.dump(model,f)"
   ]
  },
  {
   "cell_type": "code",
   "execution_count": null,
   "metadata": {},
   "outputs": [],
   "source": [
    "testando=sc.fit_transform([[12313131,31234123,412312412,312312312]])\n",
    "testando"
   ]
  },
  {
   "cell_type": "code",
   "execution_count": null,
   "metadata": {},
   "outputs": [],
   "source": [
    "xgb_reg.predict(testando)"
   ]
  },
  {
   "cell_type": "code",
   "execution_count": null,
   "metadata": {},
   "outputs": [],
   "source": [
    "pip install scikit-image"
   ]
  },
  {
   "cell_type": "code",
   "execution_count": null,
   "metadata": {},
   "outputs": [],
   "source": []
  },
  {
   "cell_type": "code",
   "execution_count": null,
   "metadata": {},
   "outputs": [],
   "source": [
    "\n",
    "# 1.0 Call libraries\n",
    "# For data manipulation\n",
    "import numpy as np\n",
    "\n",
    "# 1.1 For plotting faces\n",
    "import matplotlib.pyplot as plt   \n",
    "from skimage.io import imshow\n",
    "\n",
    "##Metrics\n",
    "from sklearn.metrics import mean_squared_error\n",
    "from sklearn.neighbors import KNeighborsRegressor\n",
    "from sklearn.linear_model import Lasso\n",
    "from sklearn.linear_model import ElasticNet\n",
    "from sklearn.linear_model import LinearRegression\n",
    "from sklearn.linear_model import RidgeCV\n",
    "\n",
    "from sklearn.ensemble import ExtraTreesRegressor\n",
    "from sklearn.ensemble import GradientBoostingRegressor\n",
    "from sklearn.ensemble import RandomForestRegressor\n",
    "from sklearn.ensemble import AdaBoostRegressor\n",
    "\n",
    "from sklearn.tree import DecisionTreeRegressor\n",
    "from sklearn.model_selection import cross_val_score\n",
    "from sklearn.model_selection import RepeatedKFold\n",
    "\n"
   ]
  },
  {
   "cell_type": "code",
   "execution_count": null,
   "metadata": {},
   "outputs": [],
   "source": [
    "def show_image(test,X_test,y_test_predict,name,n_faces,y_mse):\n",
    "  ## scattor plot\n",
    "  plt.figure(figsize=(8,6))\n",
    "  plt.scatter(y_test_predict[name],y_test,cmap='plasma')\n",
    "  plt.title(name)\n",
    "  plt.show()\n",
    "  print('RMSE for ',name,' is ',y_mse[name])\n"
   ]
  },
  {
   "cell_type": "code",
   "execution_count": null,
   "metadata": {},
   "outputs": [],
   "source": [
    "ESTIMATORS = {\n",
    "                              # Accept default parameters\n",
    "    \"Linear regression\":MultiOutputRegressor(  LinearRegression()),\n",
    "    \"Ridge\": MultiOutputRegressor( RidgeCV()),\n",
    "    \"Lasso\": MultiOutputRegressor( Lasso()),\n",
    "    \"ElasticNet\": MultiOutputRegressor( ElasticNet(random_state=0)),\n",
    "    \"RandomForestRegressor\": MultiOutputRegressor( RandomForestRegressor(max_depth=4, random_state=2)),\n",
    "    \"Decision Tree Regressor\":MultiOutputRegressor( DecisionTreeRegressor(max_depth=5)),\n",
    "    \"MultiO/P GBR\" :MultiOutputRegressor(GradientBoostingRegressor(n_estimators=5)),\n",
    "    \"MultiO/P AdaB\" :MultiOutputRegressor(AdaBoostRegressor(n_estimators=5)),\n",
    "    \"XGBRegressor\": MultiOutputRegressor(XGBRegressor(max_depth=3, n_estimators=100, n_jobs=3,\n",
    "                           objective='reg:squarederror',\n",
    "                           random_state=42, learning_rate=0.05)),\n",
    "    \"K-nn\": MultiOutputRegressor( KNeighborsRegressor()),\n",
    "    \"LinearRegression\":MultiOutputRegressor(LinearRegression()),\n",
    "    \n",
    "}"
   ]
  },
  {
   "cell_type": "code",
   "execution_count": null,
   "metadata": {},
   "outputs": [],
   "source": [
    "y_test_predict = dict()\n",
    "y_mse = dict()\n",
    "\n",
    "the_best ={\"model\":[]}\n",
    "\n",
    "for name, estimator in ESTIMATORS.items(): \n",
    "    estimator.fit(X_train, y_train)                    \n",
    "    y_test_predict[name] = estimator.predict(X_test) \n",
    "    \n",
    "    # Metrics\n",
    "    y_mse[name] = mean_squared_error(y_test, estimator.predict(X_test))\n",
    "    y_true = y_test \n",
    "    \n",
    "    cv = RepeatedKFold(n_splits=10, n_repeats=3, random_state=1)\n",
    "    n_scores = cross_val_score(estimator, x, y, scoring='neg_mean_absolute_error', cv=cv, n_jobs=-2)\n",
    "    n_scores = absolute(n_scores)\n",
    "    \n",
    "    MSE = y_mse[name] \n",
    "    RMSE = np.sqrt(MSE)\n",
    "    R_squared = r2_score(y_true, y_test_predict[name],multioutput=\"variance_weighted\")\n",
    "    MAE = mean(n_scores)\n",
    "    print(\"Model name:\", name)\n",
    "    print(\"RMSE: \", np.round(RMSE, 3))\n",
    "    print(\"MSE:\" , np.round(MSE,3))\n",
    "    print(\"R-Squared: \", np.round(R_squared, 3))\n",
    "    print(f\"MAE: {np.round(MAE,3)} ({np.round(std(n_scores),3)})\")\n",
    "    print()"
   ]
  },
  {
   "cell_type": "code",
   "execution_count": null,
   "metadata": {},
   "outputs": [],
   "source": [
    "y_test_predict = dict()\n",
    "y_mse = dict()\n",
    "\n",
    "the_best ={\"RMSE\":10, \"MSE\": 10, \"MAE\": 10, \"R_squared\": 0, 'model':dict() }\n",
    "\n",
    "for name, estimator in ESTIMATORS.items(): \n",
    "    estimator.fit(X_train, y_train)                    \n",
    "    y_test_predict[name] = estimator.predict(X_test) \n",
    "    \n",
    "    # Metrics\n",
    "    y_mse[name] = mean_squared_error(y_test, estimator.predict(X_test))\n",
    "    y_true = y_test \n",
    "    \n",
    "    cv = RepeatedKFold(n_splits=10, n_repeats=3, random_state=1)\n",
    "    n_scores = cross_val_score(estimator, x, y, scoring='neg_mean_absolute_error', cv=cv, n_jobs=-2)\n",
    "    n_scores = absolute(n_scores)\n",
    "    \n",
    "    MSE = mse(y_true, y_test_predict[name])\n",
    "    RMSE = np.sqrt(MSE)\n",
    "    R_squared = r2_score(y_true, y_test_predict[name],multioutput=\"variance_weighted\")\n",
    "    MAE = mean(n_scores)\n",
    "    print(\"Model name:\", name)\n",
    "    print(\"RMSE: \", np.round(RMSE, 3))\n",
    "    print(\"MSE:\" , np.round(y_mse[name],3))\n",
    "    print(\"R-Squared: \", np.round(R_squared, 3))\n",
    "    print(f\"MAE: {np.round(MAE,3)} ({np.round(std(n_scores),3)})\")\n",
    "    print()\n",
    "    \n",
    "    if(RMSE < the_best.get('RMSE') and MSE<the_best.get('MSE') and ( (1-R_squared)>0 and R_squared> the_best.get('R_squared') ) ):\n",
    "        print(\"New best->\", name) \n",
    "        the_best[\"RMSE\"] = RMSE\n",
    "        the_best['MSE'] = MSE\n",
    "        the_best[\"R_squared\"]= R_squared\n",
    "        the_best['model']={'name':name, 'estimator': estimator}\n",
    "            \n",
    "print('The best model',the_best.get(\"model\").get('name'))"
   ]
  },
  {
   "cell_type": "code",
   "execution_count": 196,
   "metadata": {},
   "outputs": [
    {
     "name": "stdout",
     "output_type": "stream",
     "text": [
      "4\n",
      "3\n",
      "Index(['NV.IND.MANF.CD', 'NV.IND.TOTL.CD', 'NV.SRV.TOTL.CD', 'NY.GDP.FCST.CD'], dtype='object')\n",
      "Index(['NV.IND.MANF.CD', 'NV.IND.TOTL.CD', 'NV.SRV.TOTL.CD', 'NY.GDP.FCST.CD'], dtype='object')\n",
      "Index(['NE.CON.TOTL.CD', 'NE.RSB.GNFS.CD', 'NY.GDS.TOTL.CD'], dtype='object')\n",
      "Index(['NE.CON.TOTL.CD', 'NE.RSB.GNFS.CD', 'NY.GDS.TOTL.CD'], dtype='object')\n"
     ]
    }
   ],
   "source": [
    "a=get_data(df_inputs_economia)\n",
    "b=get_data(df_outputs_economia)\n",
    "c= pd.concat([a, b], axis=1)\n",
    "al= len(a.columns)\n",
    "bl= len(b.columns)\n",
    "print(al)\n",
    "print(bl)\n",
    "print(c.iloc[:,0:al].columns)\n",
    "print(a.columns)\n",
    "print(c.iloc[:,al:al+bl].columns)\n",
    "print(b.columns)\n"
   ]
  },
  {
   "cell_type": "code",
   "execution_count": 224,
   "metadata": {},
   "outputs": [],
   "source": [
    "\n",
    "# input['NY.GDP.FCST.CD','NV.IND.TOTL.CD','NV.IND.MANF.CD','NV.SRV.TOTL.CD']\n",
    "# out['NY.GDS.TOTL.CD','NE.RSB.GNFS.CD','NE.CON.TOTL.CD','IC.REG.STRT.BUS.DFRN']\n",
    "\n",
    "\n",
    "model_eco=pickle.load(open(\"models/model_economia.pkl\",'rb'))\n",
    "normalizer_eco=pickle.load(open(\"models/normalizer_economia.pkl\",'rb'))\n"
   ]
  },
  {
   "cell_type": "code",
   "execution_count": 227,
   "metadata": {},
   "outputs": [
    {
     "data": {
      "text/plain": [
       "array([[-1.00520908, -1.01088954, -1.0042351 , -1.00933533, -1.00809216,\n",
       "         0.37337072, -1.00721503]])"
      ]
     },
     "execution_count": 227,
     "metadata": {},
     "output_type": "execute_result"
    }
   ],
   "source": [
    "normalizer_eco.transform([[123,123,123,3,4,4,3]])"
   ]
  },
  {
   "cell_type": "code",
   "execution_count": null,
   "metadata": {},
   "outputs": [],
   "source": []
  }
 ],
 "metadata": {
  "kernelspec": {
   "display_name": "jogo_economia_sensata",
   "language": "python",
   "name": "jogo_economia_sensata"
  },
  "language_info": {
   "codemirror_mode": {
    "name": "ipython",
    "version": 3
   },
   "file_extension": ".py",
   "mimetype": "text/x-python",
   "name": "python",
   "nbconvert_exporter": "python",
   "pygments_lexer": "ipython3",
   "version": "3.8.10"
  }
 },
 "nbformat": 4,
 "nbformat_minor": 4
}
